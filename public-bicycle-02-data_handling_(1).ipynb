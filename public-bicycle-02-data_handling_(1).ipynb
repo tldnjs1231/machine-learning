{
 "cells": [
  {
   "cell_type": "code",
   "execution_count": 1,
   "id": "6e66a157",
   "metadata": {},
   "outputs": [],
   "source": [
    "import pandas as pd\n",
    "import numpy as np\n",
    "import seaborn as sns\n",
    "import matplotlib.pyplot as plt\n",
    "import warnings\n",
    "warnings.simplefilter(action='ignore')"
   ]
  },
  {
   "cell_type": "code",
   "execution_count": 2,
   "id": "768b9602",
   "metadata": {},
   "outputs": [
    {
     "data": {
      "text/plain": [
       "Index(['대여일자', '대여시간', '대여구분코드', '성별', '연령대코드'], dtype='object')"
      ]
     },
     "execution_count": 2,
     "metadata": {},
     "output_type": "execute_result"
    }
   ],
   "source": [
    "all_df = pd.read_csv('test1_modified_1.csv')\n",
    "all_df.columns"
   ]
  },
  {
   "cell_type": "markdown",
   "id": "dcfcd30e",
   "metadata": {},
   "source": [
    "### 데이터 통일\n",
    "- 컬럼명 통일 후 컬럼 내의 데이터 점검\n",
    " - 데이터 형태 통일\n",
    " - 이상치 및 결측치 처리\n",
    " - 수치형 변환\n",
    "- 데이터를 분석이 용이한 형태로 변환하는 것은 데이터 사이언티스트의 역량"
   ]
  },
  {
   "cell_type": "markdown",
   "id": "7b938170",
   "metadata": {},
   "source": [
    "#### 자료형 통일\n",
    "- 대여구분코드\n",
    "- 연령대코드"
   ]
  },
  {
   "cell_type": "code",
   "execution_count": 3,
   "id": "c3a66698",
   "metadata": {},
   "outputs": [
    {
     "data": {
      "text/plain": [
       "{\"'단체'\",\n",
       " \"'일일(2시간권)'\",\n",
       " \"'일일(비회원)'\",\n",
       " \"'일일(회원)'\",\n",
       " \"'정기'\",\n",
       " \"'정기(2시간권)'\",\n",
       " '단기권(전기)',\n",
       " '단체권',\n",
       " '일일권',\n",
       " '일일권(비회원)',\n",
       " '정기권'}"
      ]
     },
     "execution_count": 3,
     "metadata": {},
     "output_type": "execute_result"
    }
   ],
   "source": [
    "set(all_df['대여구분코드'])\n",
    "\n",
    "# 중복이 제거된 데이터임에도 형태 통일 x\n",
    "# 따옴표의 유무의 따라 두 가지 경우 존재\n",
    "# 일일권, 정기권, 단체권 세 가지 유형으로 압축 가능"
   ]
  },
  {
   "cell_type": "code",
   "execution_count": 4,
   "id": "c5d76fab",
   "metadata": {},
   "outputs": [
    {
     "data": {
      "text/plain": [
       "array(['정기권', '일일권', '단체권', '일일권(비회원)', '단기권(전기)', \"'정기'\", \"'일일(회원)'\",\n",
       "       \"'일일(비회원)'\", \"'단체'\", \"'일일(2시간권)'\", \"'정기(2시간권)'\"], dtype=object)"
      ]
     },
     "execution_count": 4,
     "metadata": {},
     "output_type": "execute_result"
    }
   ],
   "source": [
    "all_df['대여구분코드'].unique()\n",
    "\n",
    "# set()과 마찬가지로 중복값을 제거하여 출력\n",
    "# np.unique(all_df['대여구분코드']) -> NaN(float형) 존재할 경우 TypeError 발생, 느린 처리 속도"
   ]
  },
  {
   "cell_type": "code",
   "execution_count": 5,
   "id": "57f784d5",
   "metadata": {},
   "outputs": [
    {
     "data": {
      "text/plain": [
       "{\"'20대'\",\n",
       " \"'30대'\",\n",
       " \"'40대'\",\n",
       " \"'50대'\",\n",
       " \"'60대'\",\n",
       " \"'70대~'\",\n",
       " \"'~10대'\",\n",
       " '20대',\n",
       " '30대',\n",
       " '40대',\n",
       " '50대',\n",
       " '60대',\n",
       " '70대~',\n",
       " nan,\n",
       " '~10대'}"
      ]
     },
     "execution_count": 5,
     "metadata": {},
     "output_type": "execute_result"
    }
   ],
   "source": [
    "set(all_df['연령대코드'])\n",
    "\n",
    "# 나머지 값을 float형으로 변환하거나, nan을 string형으로 변환하여 연령대코드 데이터 통일"
   ]
  },
  {
   "cell_type": "code",
   "execution_count": 6,
   "id": "d6638fed",
   "metadata": {},
   "outputs": [
    {
     "data": {
      "text/plain": [
       "{\"'20대'\",\n",
       " \"'30대'\",\n",
       " \"'40대'\",\n",
       " \"'50대'\",\n",
       " \"'60대'\",\n",
       " \"'70대~'\",\n",
       " \"'~10대'\",\n",
       " '20대',\n",
       " '30대',\n",
       " '40대',\n",
       " '50대',\n",
       " '60대',\n",
       " '70대~',\n",
       " 'nan',\n",
       " '~10대'}"
      ]
     },
     "execution_count": 6,
     "metadata": {},
     "output_type": "execute_result"
    }
   ],
   "source": [
    "# 모든 데이터를 일괄적으로 string 변환\n",
    "all_df['연령대코드'] = all_df['연령대코드'].apply(lambda x: str(x))\n",
    "set(all_df['연령대코드'])"
   ]
  },
  {
   "cell_type": "markdown",
   "id": "adf9b4eb",
   "metadata": {},
   "source": [
    "#### 중복 따옴표 제거\n",
    "- 대여구분코드, 연령대코드 컬럼에 따옴표가 두 번 사용된 데이터 존재\n",
    "- 데이터를 문자열 형태로 만들어주는 큰 따옴표는 유지하고, 문자열 안의 불필요한 작은 따옴표 제거"
   ]
  },
  {
   "cell_type": "code",
   "execution_count": 7,
   "id": "40ef0cfa",
   "metadata": {},
   "outputs": [],
   "source": [
    "# 따옴표가 없는 string 형태로 통일하기 위해 '' 제거\n",
    "# '를 빈 문자열로 대체(replace) -> 이스케이프 문자 \\ 사용\n",
    "for col in all_df.columns:\n",
    "    all_df[col] = all_df[col].apply(lambda x: str(x).replace('\\'', ''))"
   ]
  },
  {
   "cell_type": "code",
   "execution_count": 8,
   "id": "1dab0d24",
   "metadata": {},
   "outputs": [
    {
     "data": {
      "text/plain": [
       "{'20대', '30대', '40대', '50대', '60대', '70대~', 'nan', '~10대'}"
      ]
     },
     "execution_count": 8,
     "metadata": {},
     "output_type": "execute_result"
    }
   ],
   "source": [
    "set(all_df['연령대코드'])"
   ]
  },
  {
   "cell_type": "markdown",
   "id": "a3b8bb11",
   "metadata": {},
   "source": [
    "#### 데이터 종류 재설정\n",
    "- 대여구분코드\n",
    "- 성별"
   ]
  },
  {
   "cell_type": "code",
   "execution_count": 9,
   "id": "169b8506",
   "metadata": {},
   "outputs": [
    {
     "data": {
      "text/plain": [
       "{'단기권(전기)',\n",
       " '단체',\n",
       " '단체권',\n",
       " '일일(2시간권)',\n",
       " '일일(비회원)',\n",
       " '일일(회원)',\n",
       " '일일권',\n",
       " '일일권(비회원)',\n",
       " '정기',\n",
       " '정기(2시간권)',\n",
       " '정기권'}"
      ]
     },
     "execution_count": 9,
     "metadata": {},
     "output_type": "execute_result"
    }
   ],
   "source": [
    "##### 대여구분코드 #####\n",
    "\n",
    "set(all_df['대여구분코드'])\n",
    "\n",
    "# 11개의 경우의 수를 아래의 세 가지 유형으로 압축\n",
    "# '단체*' -> group\n",
    "# '단기*', '일일*' -> casual\n",
    "# '정기*' -> regular"
   ]
  },
  {
   "cell_type": "code",
   "execution_count": 10,
   "id": "b5956aa0",
   "metadata": {},
   "outputs": [
    {
     "data": {
      "text/plain": [
       "{'casual', 'group', 'regular'}"
      ]
     },
     "execution_count": 10,
     "metadata": {},
     "output_type": "execute_result"
    }
   ],
   "source": [
    "mapper = {'단기권(전기)':'casual',\n",
    "          '단체':'group',\n",
    "          '단체권':'group',\n",
    "          '일일(2시간권)':'casual',\n",
    "          '일일(비회원)':'casual',\n",
    "          '일일(회원)':'casual',\n",
    "          '일일권':'casual',\n",
    "          '일일권(비회원)':'casual',\n",
    "          '정기':'regular',\n",
    "          '정기(2시간권)':'regular',\n",
    "          '정기권':'regular'}\n",
    "\n",
    "all_df['type'] = all_df['대여구분코드'].map(mapper)\n",
    "set(all_df['type'])"
   ]
  },
  {
   "cell_type": "code",
   "execution_count": 11,
   "id": "406f0738",
   "metadata": {},
   "outputs": [
    {
     "data": {
      "text/html": [
       "<div>\n",
       "<style scoped>\n",
       "    .dataframe tbody tr th:only-of-type {\n",
       "        vertical-align: middle;\n",
       "    }\n",
       "\n",
       "    .dataframe tbody tr th {\n",
       "        vertical-align: top;\n",
       "    }\n",
       "\n",
       "    .dataframe thead th {\n",
       "        text-align: right;\n",
       "    }\n",
       "</style>\n",
       "<table border=\"1\" class=\"dataframe\">\n",
       "  <thead>\n",
       "    <tr style=\"text-align: right;\">\n",
       "      <th></th>\n",
       "      <th>대여일자</th>\n",
       "      <th>대여시간</th>\n",
       "      <th>대여구분코드</th>\n",
       "      <th>성별</th>\n",
       "      <th>연령대코드</th>\n",
       "      <th>type</th>\n",
       "    </tr>\n",
       "  </thead>\n",
       "  <tbody>\n",
       "    <tr>\n",
       "      <th>0</th>\n",
       "      <td>2019-12-01</td>\n",
       "      <td>0</td>\n",
       "      <td>정기권</td>\n",
       "      <td>nan</td>\n",
       "      <td>~10대</td>\n",
       "      <td>regular</td>\n",
       "    </tr>\n",
       "    <tr>\n",
       "      <th>1</th>\n",
       "      <td>2019-12-01</td>\n",
       "      <td>0</td>\n",
       "      <td>정기권</td>\n",
       "      <td>nan</td>\n",
       "      <td>~10대</td>\n",
       "      <td>regular</td>\n",
       "    </tr>\n",
       "    <tr>\n",
       "      <th>2</th>\n",
       "      <td>2019-12-01</td>\n",
       "      <td>0</td>\n",
       "      <td>정기권</td>\n",
       "      <td>nan</td>\n",
       "      <td>~10대</td>\n",
       "      <td>regular</td>\n",
       "    </tr>\n",
       "    <tr>\n",
       "      <th>3</th>\n",
       "      <td>2019-12-01</td>\n",
       "      <td>0</td>\n",
       "      <td>정기권</td>\n",
       "      <td>nan</td>\n",
       "      <td>~10대</td>\n",
       "      <td>regular</td>\n",
       "    </tr>\n",
       "    <tr>\n",
       "      <th>4</th>\n",
       "      <td>2019-12-01</td>\n",
       "      <td>0</td>\n",
       "      <td>정기권</td>\n",
       "      <td>nan</td>\n",
       "      <td>~10대</td>\n",
       "      <td>regular</td>\n",
       "    </tr>\n",
       "  </tbody>\n",
       "</table>\n",
       "</div>"
      ],
      "text/plain": [
       "         대여일자 대여시간 대여구분코드   성별 연령대코드     type\n",
       "0  2019-12-01    0    정기권  nan  ~10대  regular\n",
       "1  2019-12-01    0    정기권  nan  ~10대  regular\n",
       "2  2019-12-01    0    정기권  nan  ~10대  regular\n",
       "3  2019-12-01    0    정기권  nan  ~10대  regular\n",
       "4  2019-12-01    0    정기권  nan  ~10대  regular"
      ]
     },
     "execution_count": 11,
     "metadata": {},
     "output_type": "execute_result"
    }
   ],
   "source": [
    "all_df.head()"
   ]
  },
  {
   "cell_type": "code",
   "execution_count": 12,
   "id": "ec668919",
   "metadata": {},
   "outputs": [
    {
     "data": {
      "text/plain": [
       "array(['', 'F', 'M', '\\\\N', 'f', 'm', 'nan'], dtype=object)"
      ]
     },
     "execution_count": 12,
     "metadata": {},
     "output_type": "execute_result"
    }
   ],
   "source": [
    "##### 성별 #####\n",
    "\n",
    "np.unique(all_df['성별'])"
   ]
  },
  {
   "cell_type": "code",
   "execution_count": 13,
   "id": "1cfbc15a",
   "metadata": {},
   "outputs": [
    {
     "data": {
      "text/plain": [
       "{'F', 'M', 'U'}"
      ]
     },
     "execution_count": 13,
     "metadata": {},
     "output_type": "execute_result"
    }
   ],
   "source": [
    "mapper = {'':'U', # Unidentified\n",
    "          'F':'F', # Female\n",
    "          'M':'M', # Male\n",
    "          '\\\\N':'U',\n",
    "          'f':'F',\n",
    "          'm':'M',\n",
    "          'nan':'U'}\n",
    "\n",
    "all_df['gender'] = all_df['성별'].map(mapper)\n",
    "set(all_df['gender'])"
   ]
  },
  {
   "cell_type": "code",
   "execution_count": 14,
   "id": "2c3421ae",
   "metadata": {},
   "outputs": [
    {
     "data": {
      "text/html": [
       "<div>\n",
       "<style scoped>\n",
       "    .dataframe tbody tr th:only-of-type {\n",
       "        vertical-align: middle;\n",
       "    }\n",
       "\n",
       "    .dataframe tbody tr th {\n",
       "        vertical-align: top;\n",
       "    }\n",
       "\n",
       "    .dataframe thead th {\n",
       "        text-align: right;\n",
       "    }\n",
       "</style>\n",
       "<table border=\"1\" class=\"dataframe\">\n",
       "  <thead>\n",
       "    <tr style=\"text-align: right;\">\n",
       "      <th></th>\n",
       "      <th>대여일자</th>\n",
       "      <th>대여시간</th>\n",
       "      <th>대여구분코드</th>\n",
       "      <th>성별</th>\n",
       "      <th>연령대코드</th>\n",
       "      <th>type</th>\n",
       "      <th>gender</th>\n",
       "    </tr>\n",
       "  </thead>\n",
       "  <tbody>\n",
       "    <tr>\n",
       "      <th>0</th>\n",
       "      <td>2019-12-01</td>\n",
       "      <td>0</td>\n",
       "      <td>정기권</td>\n",
       "      <td>nan</td>\n",
       "      <td>~10대</td>\n",
       "      <td>regular</td>\n",
       "      <td>U</td>\n",
       "    </tr>\n",
       "    <tr>\n",
       "      <th>1</th>\n",
       "      <td>2019-12-01</td>\n",
       "      <td>0</td>\n",
       "      <td>정기권</td>\n",
       "      <td>nan</td>\n",
       "      <td>~10대</td>\n",
       "      <td>regular</td>\n",
       "      <td>U</td>\n",
       "    </tr>\n",
       "    <tr>\n",
       "      <th>2</th>\n",
       "      <td>2019-12-01</td>\n",
       "      <td>0</td>\n",
       "      <td>정기권</td>\n",
       "      <td>nan</td>\n",
       "      <td>~10대</td>\n",
       "      <td>regular</td>\n",
       "      <td>U</td>\n",
       "    </tr>\n",
       "    <tr>\n",
       "      <th>3</th>\n",
       "      <td>2019-12-01</td>\n",
       "      <td>0</td>\n",
       "      <td>정기권</td>\n",
       "      <td>nan</td>\n",
       "      <td>~10대</td>\n",
       "      <td>regular</td>\n",
       "      <td>U</td>\n",
       "    </tr>\n",
       "    <tr>\n",
       "      <th>4</th>\n",
       "      <td>2019-12-01</td>\n",
       "      <td>0</td>\n",
       "      <td>정기권</td>\n",
       "      <td>nan</td>\n",
       "      <td>~10대</td>\n",
       "      <td>regular</td>\n",
       "      <td>U</td>\n",
       "    </tr>\n",
       "  </tbody>\n",
       "</table>\n",
       "</div>"
      ],
      "text/plain": [
       "         대여일자 대여시간 대여구분코드   성별 연령대코드     type gender\n",
       "0  2019-12-01    0    정기권  nan  ~10대  regular      U\n",
       "1  2019-12-01    0    정기권  nan  ~10대  regular      U\n",
       "2  2019-12-01    0    정기권  nan  ~10대  regular      U\n",
       "3  2019-12-01    0    정기권  nan  ~10대  regular      U\n",
       "4  2019-12-01    0    정기권  nan  ~10대  regular      U"
      ]
     },
     "execution_count": 14,
     "metadata": {},
     "output_type": "execute_result"
    }
   ],
   "source": [
    "all_df.head()"
   ]
  },
  {
   "cell_type": "markdown",
   "id": "5bc76958",
   "metadata": {},
   "source": [
    "#### 시간 정보 처리\n",
    "- 대여일자 및 대여시간\n",
    "- 새로운 형식의 datetime 컬럼 생성"
   ]
  },
  {
   "cell_type": "code",
   "execution_count": 15,
   "id": "63659e1c",
   "metadata": {},
   "outputs": [],
   "source": [
    "# 대여일자와 대여시간을 이용하여 '연-월-일 시:분:초' 형식의 datetime 생성\n",
    "# ex) 2019-12-01 0 -> 2019-12-01 00:00:00"
   ]
  },
  {
   "cell_type": "code",
   "execution_count": 16,
   "id": "8670c96b",
   "metadata": {},
   "outputs": [
    {
     "name": "stdout",
     "output_type": "stream",
     "text": [
      "<class 'pandas.core.frame.DataFrame'>\n",
      "RangeIndex: 45108029 entries, 0 to 45108028\n",
      "Data columns (total 7 columns):\n",
      " #   Column  Dtype \n",
      "---  ------  ----- \n",
      " 0   대여일자    object\n",
      " 1   대여시간    object\n",
      " 2   대여구분코드  object\n",
      " 3   성별      object\n",
      " 4   연령대코드   object\n",
      " 5   type    object\n",
      " 6   gender  object\n",
      "dtypes: object(7)\n",
      "memory usage: 2.4+ GB\n"
     ]
    }
   ],
   "source": [
    "# 데이터 타입 확인\n",
    "all_df.info()"
   ]
  },
  {
   "cell_type": "markdown",
   "id": "f0976551",
   "metadata": {},
   "source": [
    "#### 대여시간"
   ]
  },
  {
   "cell_type": "code",
   "execution_count": 17,
   "id": "c519af1a",
   "metadata": {
    "scrolled": true
   },
   "outputs": [
    {
     "data": {
      "text/html": [
       "<div>\n",
       "<style scoped>\n",
       "    .dataframe tbody tr th:only-of-type {\n",
       "        vertical-align: middle;\n",
       "    }\n",
       "\n",
       "    .dataframe tbody tr th {\n",
       "        vertical-align: top;\n",
       "    }\n",
       "\n",
       "    .dataframe thead th {\n",
       "        text-align: right;\n",
       "    }\n",
       "</style>\n",
       "<table border=\"1\" class=\"dataframe\">\n",
       "  <thead>\n",
       "    <tr style=\"text-align: right;\">\n",
       "      <th></th>\n",
       "      <th>대여일자</th>\n",
       "      <th>대여시간</th>\n",
       "      <th>대여구분코드</th>\n",
       "      <th>성별</th>\n",
       "      <th>연령대코드</th>\n",
       "      <th>type</th>\n",
       "      <th>gender</th>\n",
       "    </tr>\n",
       "  </thead>\n",
       "  <tbody>\n",
       "    <tr>\n",
       "      <th>0</th>\n",
       "      <td>2019-12-01</td>\n",
       "      <td>0</td>\n",
       "      <td>정기권</td>\n",
       "      <td>nan</td>\n",
       "      <td>~10대</td>\n",
       "      <td>regular</td>\n",
       "      <td>U</td>\n",
       "    </tr>\n",
       "    <tr>\n",
       "      <th>1</th>\n",
       "      <td>2019-12-01</td>\n",
       "      <td>0</td>\n",
       "      <td>정기권</td>\n",
       "      <td>nan</td>\n",
       "      <td>~10대</td>\n",
       "      <td>regular</td>\n",
       "      <td>U</td>\n",
       "    </tr>\n",
       "    <tr>\n",
       "      <th>2</th>\n",
       "      <td>2019-12-01</td>\n",
       "      <td>0</td>\n",
       "      <td>정기권</td>\n",
       "      <td>nan</td>\n",
       "      <td>~10대</td>\n",
       "      <td>regular</td>\n",
       "      <td>U</td>\n",
       "    </tr>\n",
       "    <tr>\n",
       "      <th>3</th>\n",
       "      <td>2019-12-01</td>\n",
       "      <td>0</td>\n",
       "      <td>정기권</td>\n",
       "      <td>nan</td>\n",
       "      <td>~10대</td>\n",
       "      <td>regular</td>\n",
       "      <td>U</td>\n",
       "    </tr>\n",
       "    <tr>\n",
       "      <th>4</th>\n",
       "      <td>2019-12-01</td>\n",
       "      <td>0</td>\n",
       "      <td>정기권</td>\n",
       "      <td>nan</td>\n",
       "      <td>~10대</td>\n",
       "      <td>regular</td>\n",
       "      <td>U</td>\n",
       "    </tr>\n",
       "  </tbody>\n",
       "</table>\n",
       "</div>"
      ],
      "text/plain": [
       "         대여일자 대여시간 대여구분코드   성별 연령대코드     type gender\n",
       "0  2019-12-01    0    정기권  nan  ~10대  regular      U\n",
       "1  2019-12-01    0    정기권  nan  ~10대  regular      U\n",
       "2  2019-12-01    0    정기권  nan  ~10대  regular      U\n",
       "3  2019-12-01    0    정기권  nan  ~10대  regular      U\n",
       "4  2019-12-01    0    정기권  nan  ~10대  regular      U"
      ]
     },
     "execution_count": 17,
     "metadata": {},
     "output_type": "execute_result"
    }
   ],
   "source": [
    "all_df.head()"
   ]
  },
  {
   "cell_type": "code",
   "execution_count": 18,
   "id": "156e8b50",
   "metadata": {},
   "outputs": [
    {
     "data": {
      "text/plain": [
       "{'0',\n",
       " '00',\n",
       " '01',\n",
       " '02',\n",
       " '03',\n",
       " '04',\n",
       " '05',\n",
       " '06',\n",
       " '07',\n",
       " '08',\n",
       " '09',\n",
       " '1',\n",
       " '10',\n",
       " '11',\n",
       " '12',\n",
       " '13',\n",
       " '14',\n",
       " '15',\n",
       " '16',\n",
       " '17',\n",
       " '18',\n",
       " '19',\n",
       " '2',\n",
       " '20',\n",
       " '21',\n",
       " '22',\n",
       " '23',\n",
       " '3',\n",
       " '4',\n",
       " '5',\n",
       " '6',\n",
       " '7',\n",
       " '8',\n",
       " '9'}"
      ]
     },
     "execution_count": 18,
     "metadata": {},
     "output_type": "execute_result"
    }
   ],
   "source": [
    "set(all_df['대여시간'])\n",
    "\n",
    "# 대여시간 컬럼에는 분, 초를 제외한 시 정보만 존재\n",
    "# 또한, 자전거를 대여한 시간대의 분, 초는 중요하지 x -> 판단을 위한 도메인 지식 필요\n",
    "# 따라서 모든 대여시간 데이터를 '00' 형태로 변환한 후 뒤에 ':00:00'을 추가"
   ]
  },
  {
   "cell_type": "code",
   "execution_count": 19,
   "id": "ec12e111",
   "metadata": {},
   "outputs": [
    {
     "name": "stdout",
     "output_type": "stream",
     "text": [
      "2019-12-01 00:00:00\n",
      "2019-12-01 00:00:00\n"
     ]
    }
   ],
   "source": [
    "# 대여시간 정보를 '00' 형태로 변환하는 샘플 연산\n",
    "sample_date = '2019-12-01'\n",
    "sample_hour = '0'\n",
    "\n",
    "print(sample_date + ' ' + sample_hour.zfill(2) + ':00:00') # zfill() 사용\n",
    "print(sample_date + ' ' + str('0' + sample_hour)[-2:] + ':00:00') # 맨 앞에 0 삽입 -> 마지막 두 문자만 추출"
   ]
  },
  {
   "cell_type": "code",
   "execution_count": 20,
   "id": "862b9192",
   "metadata": {},
   "outputs": [
    {
     "data": {
      "text/plain": [
       "{'00',\n",
       " '01',\n",
       " '02',\n",
       " '03',\n",
       " '04',\n",
       " '05',\n",
       " '06',\n",
       " '07',\n",
       " '08',\n",
       " '09',\n",
       " '10',\n",
       " '11',\n",
       " '12',\n",
       " '13',\n",
       " '14',\n",
       " '15',\n",
       " '16',\n",
       " '17',\n",
       " '18',\n",
       " '19',\n",
       " '20',\n",
       " '21',\n",
       " '22',\n",
       " '23'}"
      ]
     },
     "execution_count": 20,
     "metadata": {},
     "output_type": "execute_result"
    }
   ],
   "source": [
    "# all_df['대여시간'] = all_df['대여시간'].apply(lambda x: str('0' + x)[-2:])\n",
    "all_df['대여시간'] = all_df['대여시간'].apply(lambda x: x.zfill(2))\n",
    "set(all_df['대여시간'])"
   ]
  },
  {
   "cell_type": "markdown",
   "id": "0342f580",
   "metadata": {},
   "source": [
    "#### 대여일자"
   ]
  },
  {
   "cell_type": "code",
   "execution_count": 21,
   "id": "01d32ed9",
   "metadata": {},
   "outputs": [
    {
     "data": {
      "text/html": [
       "<div>\n",
       "<style scoped>\n",
       "    .dataframe tbody tr th:only-of-type {\n",
       "        vertical-align: middle;\n",
       "    }\n",
       "\n",
       "    .dataframe tbody tr th {\n",
       "        vertical-align: top;\n",
       "    }\n",
       "\n",
       "    .dataframe thead th {\n",
       "        text-align: right;\n",
       "    }\n",
       "</style>\n",
       "<table border=\"1\" class=\"dataframe\">\n",
       "  <thead>\n",
       "    <tr style=\"text-align: right;\">\n",
       "      <th></th>\n",
       "      <th>대여일자</th>\n",
       "      <th>대여시간</th>\n",
       "      <th>대여구분코드</th>\n",
       "      <th>성별</th>\n",
       "      <th>연령대코드</th>\n",
       "      <th>type</th>\n",
       "      <th>gender</th>\n",
       "    </tr>\n",
       "  </thead>\n",
       "  <tbody>\n",
       "    <tr>\n",
       "      <th>0</th>\n",
       "      <td>2019-12-01</td>\n",
       "      <td>00</td>\n",
       "      <td>정기권</td>\n",
       "      <td>nan</td>\n",
       "      <td>~10대</td>\n",
       "      <td>regular</td>\n",
       "      <td>U</td>\n",
       "    </tr>\n",
       "    <tr>\n",
       "      <th>1</th>\n",
       "      <td>2019-12-01</td>\n",
       "      <td>00</td>\n",
       "      <td>정기권</td>\n",
       "      <td>nan</td>\n",
       "      <td>~10대</td>\n",
       "      <td>regular</td>\n",
       "      <td>U</td>\n",
       "    </tr>\n",
       "    <tr>\n",
       "      <th>2</th>\n",
       "      <td>2019-12-01</td>\n",
       "      <td>00</td>\n",
       "      <td>정기권</td>\n",
       "      <td>nan</td>\n",
       "      <td>~10대</td>\n",
       "      <td>regular</td>\n",
       "      <td>U</td>\n",
       "    </tr>\n",
       "    <tr>\n",
       "      <th>3</th>\n",
       "      <td>2019-12-01</td>\n",
       "      <td>00</td>\n",
       "      <td>정기권</td>\n",
       "      <td>nan</td>\n",
       "      <td>~10대</td>\n",
       "      <td>regular</td>\n",
       "      <td>U</td>\n",
       "    </tr>\n",
       "    <tr>\n",
       "      <th>4</th>\n",
       "      <td>2019-12-01</td>\n",
       "      <td>00</td>\n",
       "      <td>정기권</td>\n",
       "      <td>nan</td>\n",
       "      <td>~10대</td>\n",
       "      <td>regular</td>\n",
       "      <td>U</td>\n",
       "    </tr>\n",
       "    <tr>\n",
       "      <th>...</th>\n",
       "      <td>...</td>\n",
       "      <td>...</td>\n",
       "      <td>...</td>\n",
       "      <td>...</td>\n",
       "      <td>...</td>\n",
       "      <td>...</td>\n",
       "      <td>...</td>\n",
       "    </tr>\n",
       "    <tr>\n",
       "      <th>45108024</th>\n",
       "      <td>2018-11-30 00:00:00</td>\n",
       "      <td>23</td>\n",
       "      <td>일일권</td>\n",
       "      <td>M</td>\n",
       "      <td>30대</td>\n",
       "      <td>casual</td>\n",
       "      <td>M</td>\n",
       "    </tr>\n",
       "    <tr>\n",
       "      <th>45108025</th>\n",
       "      <td>2018-11-30 00:00:00</td>\n",
       "      <td>23</td>\n",
       "      <td>일일권</td>\n",
       "      <td>M</td>\n",
       "      <td>30대</td>\n",
       "      <td>casual</td>\n",
       "      <td>M</td>\n",
       "    </tr>\n",
       "    <tr>\n",
       "      <th>45108026</th>\n",
       "      <td>2018-11-30 00:00:00</td>\n",
       "      <td>23</td>\n",
       "      <td>일일권</td>\n",
       "      <td>M</td>\n",
       "      <td>40대</td>\n",
       "      <td>casual</td>\n",
       "      <td>M</td>\n",
       "    </tr>\n",
       "    <tr>\n",
       "      <th>45108027</th>\n",
       "      <td>2018-11-30 00:00:00</td>\n",
       "      <td>23</td>\n",
       "      <td>일일권</td>\n",
       "      <td>M</td>\n",
       "      <td>60대</td>\n",
       "      <td>casual</td>\n",
       "      <td>M</td>\n",
       "    </tr>\n",
       "    <tr>\n",
       "      <th>45108028</th>\n",
       "      <td>2018-11-30 00:00:00</td>\n",
       "      <td>23</td>\n",
       "      <td>일일권(비회원)</td>\n",
       "      <td>M</td>\n",
       "      <td>30대</td>\n",
       "      <td>casual</td>\n",
       "      <td>M</td>\n",
       "    </tr>\n",
       "  </tbody>\n",
       "</table>\n",
       "<p>45108029 rows × 7 columns</p>\n",
       "</div>"
      ],
      "text/plain": [
       "                         대여일자 대여시간    대여구분코드   성별 연령대코드     type gender\n",
       "0                  2019-12-01   00       정기권  nan  ~10대  regular      U\n",
       "1                  2019-12-01   00       정기권  nan  ~10대  regular      U\n",
       "2                  2019-12-01   00       정기권  nan  ~10대  regular      U\n",
       "3                  2019-12-01   00       정기권  nan  ~10대  regular      U\n",
       "4                  2019-12-01   00       정기권  nan  ~10대  regular      U\n",
       "...                       ...  ...       ...  ...   ...      ...    ...\n",
       "45108024  2018-11-30 00:00:00   23       일일권    M   30대   casual      M\n",
       "45108025  2018-11-30 00:00:00   23       일일권    M   30대   casual      M\n",
       "45108026  2018-11-30 00:00:00   23       일일권    M   40대   casual      M\n",
       "45108027  2018-11-30 00:00:00   23       일일권    M   60대   casual      M\n",
       "45108028  2018-11-30 00:00:00   23  일일권(비회원)    M   30대   casual      M\n",
       "\n",
       "[45108029 rows x 7 columns]"
      ]
     },
     "execution_count": 21,
     "metadata": {},
     "output_type": "execute_result"
    }
   ],
   "source": [
    "all_df\n",
    "\n",
    "# 대여일자 데이터에 일관성 x"
   ]
  },
  {
   "cell_type": "code",
   "execution_count": 22,
   "id": "2021fd2e",
   "metadata": {},
   "outputs": [
    {
     "data": {
      "text/plain": [
       "{10, 19}"
      ]
     },
     "execution_count": 22,
     "metadata": {},
     "output_type": "execute_result"
    }
   ],
   "source": [
    "# 길이 정보로 대여일자 데이터의 형태 확인\n",
    "set(all_df['대여일자'].apply(lambda x: len(x)))\n",
    "\n",
    "# 어떤 데이터는 10자리, 나머지는 19자리\n",
    "# 10자리로 통일 필요"
   ]
  },
  {
   "cell_type": "code",
   "execution_count": 23,
   "id": "6270f95a",
   "metadata": {},
   "outputs": [
    {
     "data": {
      "text/plain": [
       "{10}"
      ]
     },
     "execution_count": 23,
     "metadata": {},
     "output_type": "execute_result"
    }
   ],
   "source": [
    "# 앞에서부터 10자리만 추출\n",
    "all_df['대여일자'] = all_df['대여일자'].apply(lambda x: x[:10])\n",
    "set(all_df['대여일자'].apply(lambda x: len(x)))"
   ]
  },
  {
   "cell_type": "code",
   "execution_count": 24,
   "id": "2b9504e8",
   "metadata": {},
   "outputs": [
    {
     "name": "stdout",
     "output_type": "stream",
     "text": [
      "{'2017', '2019', '2021', '2018', '2020'}\n",
      "{'07', '12', '09', '01', '08', '02', '06', '11', '10', '04', '05', '03'}\n"
     ]
    }
   ],
   "source": [
    "# 10자리가 모두 연-월-일 형태로 이루어져 있는지 확인\n",
    "print(set(all_df['대여일자'].apply(lambda x: x[:4])))\n",
    "print(set(all_df['대여일자'].apply(lambda x: x[5:7])))"
   ]
  },
  {
   "cell_type": "markdown",
   "id": "84cbaf71",
   "metadata": {},
   "source": [
    "#### datetime 컬럼 생성"
   ]
  },
  {
   "cell_type": "code",
   "execution_count": 25,
   "id": "b40216ac",
   "metadata": {},
   "outputs": [
    {
     "data": {
      "text/plain": [
       "0           2019-12-01 00:00:00\n",
       "1           2019-12-01 00:00:00\n",
       "2           2019-12-01 00:00:00\n",
       "3           2019-12-01 00:00:00\n",
       "4           2019-12-01 00:00:00\n",
       "                   ...         \n",
       "45108024    2018-11-30 23:00:00\n",
       "45108025    2018-11-30 23:00:00\n",
       "45108026    2018-11-30 23:00:00\n",
       "45108027    2018-11-30 23:00:00\n",
       "45108028    2018-11-30 23:00:00\n",
       "Name: datetime, Length: 45108029, dtype: object"
      ]
     },
     "execution_count": 25,
     "metadata": {},
     "output_type": "execute_result"
    }
   ],
   "source": [
    "all_df['datetime'] = all_df['대여일자'] + ' ' + all_df['대여시간'] + ':00:00'\n",
    "all_df['datetime']"
   ]
  },
  {
   "cell_type": "markdown",
   "id": "5f512032",
   "metadata": {},
   "source": [
    "#### 연령대코드 전처리\n",
    "- 데이터 이름 수정(형식 통일)\n",
    " - 나이로 연산할 것이 아니므로 문자열 형태 유지"
   ]
  },
  {
   "cell_type": "code",
   "execution_count": 26,
   "id": "b14e47ff",
   "metadata": {},
   "outputs": [
    {
     "data": {
      "text/plain": [
       "array(['~10대', '20대', '30대', '40대', '50대', '60대', '70대~', 'nan'],\n",
       "      dtype=object)"
      ]
     },
     "execution_count": 26,
     "metadata": {},
     "output_type": "execute_result"
    }
   ],
   "source": [
    "all_df['연령대코드'].unique()"
   ]
  },
  {
   "cell_type": "code",
   "execution_count": 27,
   "id": "401c52cc",
   "metadata": {},
   "outputs": [
    {
     "data": {
      "text/html": [
       "<div>\n",
       "<style scoped>\n",
       "    .dataframe tbody tr th:only-of-type {\n",
       "        vertical-align: middle;\n",
       "    }\n",
       "\n",
       "    .dataframe tbody tr th {\n",
       "        vertical-align: top;\n",
       "    }\n",
       "\n",
       "    .dataframe thead th {\n",
       "        text-align: right;\n",
       "    }\n",
       "</style>\n",
       "<table border=\"1\" class=\"dataframe\">\n",
       "  <thead>\n",
       "    <tr style=\"text-align: right;\">\n",
       "      <th></th>\n",
       "      <th>대여일자</th>\n",
       "      <th>대여시간</th>\n",
       "      <th>대여구분코드</th>\n",
       "      <th>성별</th>\n",
       "      <th>연령대코드</th>\n",
       "      <th>type</th>\n",
       "      <th>gender</th>\n",
       "      <th>datetime</th>\n",
       "      <th>age</th>\n",
       "    </tr>\n",
       "  </thead>\n",
       "  <tbody>\n",
       "    <tr>\n",
       "      <th>0</th>\n",
       "      <td>2019-12-01</td>\n",
       "      <td>00</td>\n",
       "      <td>정기권</td>\n",
       "      <td>nan</td>\n",
       "      <td>~10대</td>\n",
       "      <td>regular</td>\n",
       "      <td>U</td>\n",
       "      <td>2019-12-01 00:00:00</td>\n",
       "      <td>10s</td>\n",
       "    </tr>\n",
       "    <tr>\n",
       "      <th>1</th>\n",
       "      <td>2019-12-01</td>\n",
       "      <td>00</td>\n",
       "      <td>정기권</td>\n",
       "      <td>nan</td>\n",
       "      <td>~10대</td>\n",
       "      <td>regular</td>\n",
       "      <td>U</td>\n",
       "      <td>2019-12-01 00:00:00</td>\n",
       "      <td>10s</td>\n",
       "    </tr>\n",
       "    <tr>\n",
       "      <th>2</th>\n",
       "      <td>2019-12-01</td>\n",
       "      <td>00</td>\n",
       "      <td>정기권</td>\n",
       "      <td>nan</td>\n",
       "      <td>~10대</td>\n",
       "      <td>regular</td>\n",
       "      <td>U</td>\n",
       "      <td>2019-12-01 00:00:00</td>\n",
       "      <td>10s</td>\n",
       "    </tr>\n",
       "    <tr>\n",
       "      <th>3</th>\n",
       "      <td>2019-12-01</td>\n",
       "      <td>00</td>\n",
       "      <td>정기권</td>\n",
       "      <td>nan</td>\n",
       "      <td>~10대</td>\n",
       "      <td>regular</td>\n",
       "      <td>U</td>\n",
       "      <td>2019-12-01 00:00:00</td>\n",
       "      <td>10s</td>\n",
       "    </tr>\n",
       "    <tr>\n",
       "      <th>4</th>\n",
       "      <td>2019-12-01</td>\n",
       "      <td>00</td>\n",
       "      <td>정기권</td>\n",
       "      <td>nan</td>\n",
       "      <td>~10대</td>\n",
       "      <td>regular</td>\n",
       "      <td>U</td>\n",
       "      <td>2019-12-01 00:00:00</td>\n",
       "      <td>10s</td>\n",
       "    </tr>\n",
       "  </tbody>\n",
       "</table>\n",
       "</div>"
      ],
      "text/plain": [
       "         대여일자 대여시간 대여구분코드   성별 연령대코드     type gender             datetime  age\n",
       "0  2019-12-01   00    정기권  nan  ~10대  regular      U  2019-12-01 00:00:00  10s\n",
       "1  2019-12-01   00    정기권  nan  ~10대  regular      U  2019-12-01 00:00:00  10s\n",
       "2  2019-12-01   00    정기권  nan  ~10대  regular      U  2019-12-01 00:00:00  10s\n",
       "3  2019-12-01   00    정기권  nan  ~10대  regular      U  2019-12-01 00:00:00  10s\n",
       "4  2019-12-01   00    정기권  nan  ~10대  regular      U  2019-12-01 00:00:00  10s"
      ]
     },
     "execution_count": 27,
     "metadata": {},
     "output_type": "execute_result"
    }
   ],
   "source": [
    "mapper = {'20대':'20s',\n",
    "          '30대':'30s',\n",
    "          '40대':'40s',\n",
    "          '50대':'50s',\n",
    "          '60대':'60s',\n",
    "          '70대~':'70s',\n",
    "          'nan':'unknown',\n",
    "          '~10대':'10s'}\n",
    "\n",
    "all_df['age'] = all_df['연령대코드'].map(mapper)\n",
    "all_df.head()"
   ]
  },
  {
   "cell_type": "markdown",
   "id": "686291a5",
   "metadata": {},
   "source": [
    "#### Feature/Label 구분\n",
    "- type, gender, datetime, age 컬럼을 구분\n",
    " - datetime은 feature, type/gender/age은 label에 가까운 변수\n",
    " - ex) gender가 label이라면 성별에 따른 이용량, age가 label이라면 나이에 따른 이용량"
   ]
  },
  {
   "cell_type": "code",
   "execution_count": 28,
   "id": "966ff4e9",
   "metadata": {},
   "outputs": [
    {
     "data": {
      "text/plain": [
       "Index(['대여일자', '대여시간', '대여구분코드', '성별', '연령대코드', 'type', 'gender', 'datetime',\n",
       "       'age'],\n",
       "      dtype='object')"
      ]
     },
     "execution_count": 28,
     "metadata": {},
     "output_type": "execute_result"
    }
   ],
   "source": [
    "all_df.columns"
   ]
  },
  {
   "cell_type": "code",
   "execution_count": 29,
   "id": "8f691f17",
   "metadata": {},
   "outputs": [
    {
     "data": {
      "text/html": [
       "<div>\n",
       "<style scoped>\n",
       "    .dataframe tbody tr th:only-of-type {\n",
       "        vertical-align: middle;\n",
       "    }\n",
       "\n",
       "    .dataframe tbody tr th {\n",
       "        vertical-align: top;\n",
       "    }\n",
       "\n",
       "    .dataframe thead th {\n",
       "        text-align: right;\n",
       "    }\n",
       "</style>\n",
       "<table border=\"1\" class=\"dataframe\">\n",
       "  <thead>\n",
       "    <tr style=\"text-align: right;\">\n",
       "      <th></th>\n",
       "      <th>datetime</th>\n",
       "      <th>type</th>\n",
       "      <th>gender</th>\n",
       "      <th>age</th>\n",
       "    </tr>\n",
       "  </thead>\n",
       "  <tbody>\n",
       "    <tr>\n",
       "      <th>0</th>\n",
       "      <td>2019-12-01 00:00:00</td>\n",
       "      <td>regular</td>\n",
       "      <td>U</td>\n",
       "      <td>10s</td>\n",
       "    </tr>\n",
       "    <tr>\n",
       "      <th>1</th>\n",
       "      <td>2019-12-01 00:00:00</td>\n",
       "      <td>regular</td>\n",
       "      <td>U</td>\n",
       "      <td>10s</td>\n",
       "    </tr>\n",
       "    <tr>\n",
       "      <th>2</th>\n",
       "      <td>2019-12-01 00:00:00</td>\n",
       "      <td>regular</td>\n",
       "      <td>U</td>\n",
       "      <td>10s</td>\n",
       "    </tr>\n",
       "    <tr>\n",
       "      <th>3</th>\n",
       "      <td>2019-12-01 00:00:00</td>\n",
       "      <td>regular</td>\n",
       "      <td>U</td>\n",
       "      <td>10s</td>\n",
       "    </tr>\n",
       "    <tr>\n",
       "      <th>4</th>\n",
       "      <td>2019-12-01 00:00:00</td>\n",
       "      <td>regular</td>\n",
       "      <td>U</td>\n",
       "      <td>10s</td>\n",
       "    </tr>\n",
       "  </tbody>\n",
       "</table>\n",
       "</div>"
      ],
      "text/plain": [
       "              datetime     type gender  age\n",
       "0  2019-12-01 00:00:00  regular      U  10s\n",
       "1  2019-12-01 00:00:00  regular      U  10s\n",
       "2  2019-12-01 00:00:00  regular      U  10s\n",
       "3  2019-12-01 00:00:00  regular      U  10s\n",
       "4  2019-12-01 00:00:00  regular      U  10s"
      ]
     },
     "execution_count": 29,
     "metadata": {},
     "output_type": "execute_result"
    }
   ],
   "source": [
    "# 분석에 사용할 컬럼 목록\n",
    "selected_columns = ['datetime', 'type', 'gender', 'age']\n",
    "\n",
    "df = all_df[selected_columns]\n",
    "df.head()"
   ]
  },
  {
   "cell_type": "code",
   "execution_count": 30,
   "id": "ed258882",
   "metadata": {},
   "outputs": [],
   "source": [
    "# 체크 포인트: 분석에 사용할 데이터를 csv 파일로 저장\n",
    "df.to_csv('test1_modified_2.csv', index=False)"
   ]
  }
 ],
 "metadata": {
  "kernelspec": {
   "display_name": "Python 3 (ipykernel)",
   "language": "python",
   "name": "python3"
  },
  "language_info": {
   "codemirror_mode": {
    "name": "ipython",
    "version": 3
   },
   "file_extension": ".py",
   "mimetype": "text/x-python",
   "name": "python",
   "nbconvert_exporter": "python",
   "pygments_lexer": "ipython3",
   "version": "3.9.12"
  }
 },
 "nbformat": 4,
 "nbformat_minor": 5
}
