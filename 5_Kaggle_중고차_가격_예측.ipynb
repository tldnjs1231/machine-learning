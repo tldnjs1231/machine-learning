{
 "cells": [
  {
   "cell_type": "markdown",
   "metadata": {
    "id": "lLtTHxRjDBsK"
   },
   "source": [
    "## Kaggle 프로젝트 - Toyota Corolla 중고차 가격 예측\n",
    "- 활용 모델\n",
    " - KNN(K-Nearest Neighborhood) Regression\n",
    " - Linear Regression\n",
    "- 데이터 : ToyotaCorolla.csv\n",
    " - 중고차 1,436대의 사양 및 가격 데이터\n",
    " - 사양 정보에 따른 차량의 가격을 예측\n",
    "- https://www.kaggle.com/datasets/klkwak/toyotacorollacsv?select=ToyotaCorolla.csv"
   ]
  },
  {
   "cell_type": "code",
   "execution_count": 2,
   "metadata": {
    "executionInfo": {
     "elapsed": 851,
     "status": "ok",
     "timestamp": 1658756383577,
     "user": {
      "displayName": "김시원(경영대학 경영학과)",
      "userId": "01852339631245886585"
     },
     "user_tz": -540
    },
    "id": "_3yc2zYiDBsK"
   },
   "outputs": [],
   "source": [
    "import pandas as pd\n",
    "import numpy as np\n",
    "import warnings\n",
    "warnings.filterwarnings(action='ignore')"
   ]
  },
  {
   "cell_type": "code",
   "execution_count": 3,
   "metadata": {
    "colab": {
     "base_uri": "https://localhost:8080/"
    },
    "executionInfo": {
     "elapsed": 18962,
     "status": "ok",
     "timestamp": 1658756403963,
     "user": {
      "displayName": "김시원(경영대학 경영학과)",
      "userId": "01852339631245886585"
     },
     "user_tz": -540
    },
    "id": "FdsncCJFjHVN",
    "outputId": "bc2d9d59-9fb4-417f-803a-cfda6bded4e0"
   },
   "outputs": [
    {
     "name": "stdout",
     "output_type": "stream",
     "text": [
      "Mounted at /content/drive\n"
     ]
    }
   ],
   "source": [
    "from google.colab import drive\n",
    "drive.mount('/content/drive')"
   ]
  },
  {
   "cell_type": "markdown",
   "metadata": {
    "id": "5ZCfckiGDBsK"
   },
   "source": [
    "### 데이터 탐색 및 기본 정보 확인"
   ]
  },
  {
   "cell_type": "code",
   "execution_count": 4,
   "metadata": {
    "colab": {
     "base_uri": "https://localhost:8080/",
     "height": 366
    },
    "executionInfo": {
     "elapsed": 1387,
     "status": "ok",
     "timestamp": 1658756408331,
     "user": {
      "displayName": "김시원(경영대학 경영학과)",
      "userId": "01852339631245886585"
     },
     "user_tz": -540
    },
    "id": "Zt1ILZ9jDBsK",
    "outputId": "4c34fe7c-cc8b-43b0-d89d-db393dc8731b"
   },
   "outputs": [
    {
     "data": {
      "text/html": [
       "\n",
       "  <div id=\"df-6f66432b-f675-4828-b8ce-e279a5e3d1d7\">\n",
       "    <div class=\"colab-df-container\">\n",
       "      <div>\n",
       "<style scoped>\n",
       "    .dataframe tbody tr th:only-of-type {\n",
       "        vertical-align: middle;\n",
       "    }\n",
       "\n",
       "    .dataframe tbody tr th {\n",
       "        vertical-align: top;\n",
       "    }\n",
       "\n",
       "    .dataframe thead th {\n",
       "        text-align: right;\n",
       "    }\n",
       "</style>\n",
       "<table border=\"1\" class=\"dataframe\">\n",
       "  <thead>\n",
       "    <tr style=\"text-align: right;\">\n",
       "      <th></th>\n",
       "      <th>Id</th>\n",
       "      <th>Model</th>\n",
       "      <th>Price</th>\n",
       "      <th>Age_08_04</th>\n",
       "      <th>Mfg_Month</th>\n",
       "      <th>Mfg_Year</th>\n",
       "      <th>KM</th>\n",
       "      <th>Fuel_Type</th>\n",
       "      <th>HP</th>\n",
       "      <th>Met_Color</th>\n",
       "      <th>...</th>\n",
       "      <th>Central_Lock</th>\n",
       "      <th>Powered_Windows</th>\n",
       "      <th>Power_Steering</th>\n",
       "      <th>Radio</th>\n",
       "      <th>Mistlamps</th>\n",
       "      <th>Sport_Model</th>\n",
       "      <th>Backseat_Divider</th>\n",
       "      <th>Metallic_Rim</th>\n",
       "      <th>Radio_cassette</th>\n",
       "      <th>Tow_Bar</th>\n",
       "    </tr>\n",
       "  </thead>\n",
       "  <tbody>\n",
       "    <tr>\n",
       "      <th>0</th>\n",
       "      <td>1</td>\n",
       "      <td>TOYOTA Corolla 2.0 D4D HATCHB TERRA 2/3-Doors</td>\n",
       "      <td>13500</td>\n",
       "      <td>23</td>\n",
       "      <td>10</td>\n",
       "      <td>2002</td>\n",
       "      <td>46986</td>\n",
       "      <td>Diesel</td>\n",
       "      <td>90</td>\n",
       "      <td>1</td>\n",
       "      <td>...</td>\n",
       "      <td>1</td>\n",
       "      <td>1</td>\n",
       "      <td>1</td>\n",
       "      <td>0</td>\n",
       "      <td>0</td>\n",
       "      <td>0</td>\n",
       "      <td>1</td>\n",
       "      <td>0</td>\n",
       "      <td>0</td>\n",
       "      <td>0</td>\n",
       "    </tr>\n",
       "    <tr>\n",
       "      <th>1</th>\n",
       "      <td>2</td>\n",
       "      <td>TOYOTA Corolla 2.0 D4D HATCHB TERRA 2/3-Doors</td>\n",
       "      <td>13750</td>\n",
       "      <td>23</td>\n",
       "      <td>10</td>\n",
       "      <td>2002</td>\n",
       "      <td>72937</td>\n",
       "      <td>Diesel</td>\n",
       "      <td>90</td>\n",
       "      <td>1</td>\n",
       "      <td>...</td>\n",
       "      <td>1</td>\n",
       "      <td>0</td>\n",
       "      <td>1</td>\n",
       "      <td>0</td>\n",
       "      <td>0</td>\n",
       "      <td>0</td>\n",
       "      <td>1</td>\n",
       "      <td>0</td>\n",
       "      <td>0</td>\n",
       "      <td>0</td>\n",
       "    </tr>\n",
       "    <tr>\n",
       "      <th>2</th>\n",
       "      <td>3</td>\n",
       "      <td>?TOYOTA Corolla 2.0 D4D HATCHB TERRA 2/3-Doors</td>\n",
       "      <td>13950</td>\n",
       "      <td>24</td>\n",
       "      <td>9</td>\n",
       "      <td>2002</td>\n",
       "      <td>41711</td>\n",
       "      <td>Diesel</td>\n",
       "      <td>90</td>\n",
       "      <td>1</td>\n",
       "      <td>...</td>\n",
       "      <td>0</td>\n",
       "      <td>0</td>\n",
       "      <td>1</td>\n",
       "      <td>0</td>\n",
       "      <td>0</td>\n",
       "      <td>0</td>\n",
       "      <td>1</td>\n",
       "      <td>0</td>\n",
       "      <td>0</td>\n",
       "      <td>0</td>\n",
       "    </tr>\n",
       "    <tr>\n",
       "      <th>3</th>\n",
       "      <td>4</td>\n",
       "      <td>TOYOTA Corolla 2.0 D4D HATCHB TERRA 2/3-Doors</td>\n",
       "      <td>14950</td>\n",
       "      <td>26</td>\n",
       "      <td>7</td>\n",
       "      <td>2002</td>\n",
       "      <td>48000</td>\n",
       "      <td>Diesel</td>\n",
       "      <td>90</td>\n",
       "      <td>0</td>\n",
       "      <td>...</td>\n",
       "      <td>0</td>\n",
       "      <td>0</td>\n",
       "      <td>1</td>\n",
       "      <td>0</td>\n",
       "      <td>0</td>\n",
       "      <td>0</td>\n",
       "      <td>1</td>\n",
       "      <td>0</td>\n",
       "      <td>0</td>\n",
       "      <td>0</td>\n",
       "    </tr>\n",
       "    <tr>\n",
       "      <th>4</th>\n",
       "      <td>5</td>\n",
       "      <td>TOYOTA Corolla 2.0 D4D HATCHB SOL 2/3-Doors</td>\n",
       "      <td>13750</td>\n",
       "      <td>30</td>\n",
       "      <td>3</td>\n",
       "      <td>2002</td>\n",
       "      <td>38500</td>\n",
       "      <td>Diesel</td>\n",
       "      <td>90</td>\n",
       "      <td>0</td>\n",
       "      <td>...</td>\n",
       "      <td>1</td>\n",
       "      <td>1</td>\n",
       "      <td>1</td>\n",
       "      <td>0</td>\n",
       "      <td>1</td>\n",
       "      <td>0</td>\n",
       "      <td>1</td>\n",
       "      <td>0</td>\n",
       "      <td>0</td>\n",
       "      <td>0</td>\n",
       "    </tr>\n",
       "  </tbody>\n",
       "</table>\n",
       "<p>5 rows × 37 columns</p>\n",
       "</div>\n",
       "      <button class=\"colab-df-convert\" onclick=\"convertToInteractive('df-6f66432b-f675-4828-b8ce-e279a5e3d1d7')\"\n",
       "              title=\"Convert this dataframe to an interactive table.\"\n",
       "              style=\"display:none;\">\n",
       "        \n",
       "  <svg xmlns=\"http://www.w3.org/2000/svg\" height=\"24px\"viewBox=\"0 0 24 24\"\n",
       "       width=\"24px\">\n",
       "    <path d=\"M0 0h24v24H0V0z\" fill=\"none\"/>\n",
       "    <path d=\"M18.56 5.44l.94 2.06.94-2.06 2.06-.94-2.06-.94-.94-2.06-.94 2.06-2.06.94zm-11 1L8.5 8.5l.94-2.06 2.06-.94-2.06-.94L8.5 2.5l-.94 2.06-2.06.94zm10 10l.94 2.06.94-2.06 2.06-.94-2.06-.94-.94-2.06-.94 2.06-2.06.94z\"/><path d=\"M17.41 7.96l-1.37-1.37c-.4-.4-.92-.59-1.43-.59-.52 0-1.04.2-1.43.59L10.3 9.45l-7.72 7.72c-.78.78-.78 2.05 0 2.83L4 21.41c.39.39.9.59 1.41.59.51 0 1.02-.2 1.41-.59l7.78-7.78 2.81-2.81c.8-.78.8-2.07 0-2.86zM5.41 20L4 18.59l7.72-7.72 1.47 1.35L5.41 20z\"/>\n",
       "  </svg>\n",
       "      </button>\n",
       "      \n",
       "  <style>\n",
       "    .colab-df-container {\n",
       "      display:flex;\n",
       "      flex-wrap:wrap;\n",
       "      gap: 12px;\n",
       "    }\n",
       "\n",
       "    .colab-df-convert {\n",
       "      background-color: #E8F0FE;\n",
       "      border: none;\n",
       "      border-radius: 50%;\n",
       "      cursor: pointer;\n",
       "      display: none;\n",
       "      fill: #1967D2;\n",
       "      height: 32px;\n",
       "      padding: 0 0 0 0;\n",
       "      width: 32px;\n",
       "    }\n",
       "\n",
       "    .colab-df-convert:hover {\n",
       "      background-color: #E2EBFA;\n",
       "      box-shadow: 0px 1px 2px rgba(60, 64, 67, 0.3), 0px 1px 3px 1px rgba(60, 64, 67, 0.15);\n",
       "      fill: #174EA6;\n",
       "    }\n",
       "\n",
       "    [theme=dark] .colab-df-convert {\n",
       "      background-color: #3B4455;\n",
       "      fill: #D2E3FC;\n",
       "    }\n",
       "\n",
       "    [theme=dark] .colab-df-convert:hover {\n",
       "      background-color: #434B5C;\n",
       "      box-shadow: 0px 1px 3px 1px rgba(0, 0, 0, 0.15);\n",
       "      filter: drop-shadow(0px 1px 2px rgba(0, 0, 0, 0.3));\n",
       "      fill: #FFFFFF;\n",
       "    }\n",
       "  </style>\n",
       "\n",
       "      <script>\n",
       "        const buttonEl =\n",
       "          document.querySelector('#df-6f66432b-f675-4828-b8ce-e279a5e3d1d7 button.colab-df-convert');\n",
       "        buttonEl.style.display =\n",
       "          google.colab.kernel.accessAllowed ? 'block' : 'none';\n",
       "\n",
       "        async function convertToInteractive(key) {\n",
       "          const element = document.querySelector('#df-6f66432b-f675-4828-b8ce-e279a5e3d1d7');\n",
       "          const dataTable =\n",
       "            await google.colab.kernel.invokeFunction('convertToInteractive',\n",
       "                                                     [key], {});\n",
       "          if (!dataTable) return;\n",
       "\n",
       "          const docLinkHtml = 'Like what you see? Visit the ' +\n",
       "            '<a target=\"_blank\" href=https://colab.research.google.com/notebooks/data_table.ipynb>data table notebook</a>'\n",
       "            + ' to learn more about interactive tables.';\n",
       "          element.innerHTML = '';\n",
       "          dataTable['output_type'] = 'display_data';\n",
       "          await google.colab.output.renderOutput(dataTable, element);\n",
       "          const docLink = document.createElement('div');\n",
       "          docLink.innerHTML = docLinkHtml;\n",
       "          element.appendChild(docLink);\n",
       "        }\n",
       "      </script>\n",
       "    </div>\n",
       "  </div>\n",
       "  "
      ],
      "text/plain": [
       "   Id                                           Model  Price  Age_08_04  \\\n",
       "0   1   TOYOTA Corolla 2.0 D4D HATCHB TERRA 2/3-Doors  13500         23   \n",
       "1   2   TOYOTA Corolla 2.0 D4D HATCHB TERRA 2/3-Doors  13750         23   \n",
       "2   3  ?TOYOTA Corolla 2.0 D4D HATCHB TERRA 2/3-Doors  13950         24   \n",
       "3   4   TOYOTA Corolla 2.0 D4D HATCHB TERRA 2/3-Doors  14950         26   \n",
       "4   5     TOYOTA Corolla 2.0 D4D HATCHB SOL 2/3-Doors  13750         30   \n",
       "\n",
       "   Mfg_Month  Mfg_Year     KM Fuel_Type  HP  Met_Color  ...  Central_Lock  \\\n",
       "0         10      2002  46986    Diesel  90          1  ...             1   \n",
       "1         10      2002  72937    Diesel  90          1  ...             1   \n",
       "2          9      2002  41711    Diesel  90          1  ...             0   \n",
       "3          7      2002  48000    Diesel  90          0  ...             0   \n",
       "4          3      2002  38500    Diesel  90          0  ...             1   \n",
       "\n",
       "   Powered_Windows  Power_Steering  Radio  Mistlamps  Sport_Model  \\\n",
       "0                1               1      0          0            0   \n",
       "1                0               1      0          0            0   \n",
       "2                0               1      0          0            0   \n",
       "3                0               1      0          0            0   \n",
       "4                1               1      0          1            0   \n",
       "\n",
       "   Backseat_Divider  Metallic_Rim  Radio_cassette  Tow_Bar  \n",
       "0                 1             0               0        0  \n",
       "1                 1             0               0        0  \n",
       "2                 1             0               0        0  \n",
       "3                 1             0               0        0  \n",
       "4                 1             0               0        0  \n",
       "\n",
       "[5 rows x 37 columns]"
      ]
     },
     "execution_count": 4,
     "metadata": {},
     "output_type": "execute_result"
    }
   ],
   "source": [
    "path = '/content/drive/MyDrive/Colab Notebooks/0_머신러닝/ToyotaCorolla.csv'\n",
    "\n",
    "toyota = pd.read_csv(path)\n",
    "toyota.head()"
   ]
  },
  {
   "cell_type": "code",
   "execution_count": 5,
   "metadata": {
    "colab": {
     "base_uri": "https://localhost:8080/"
    },
    "executionInfo": {
     "elapsed": 416,
     "status": "ok",
     "timestamp": 1658756410014,
     "user": {
      "displayName": "김시원(경영대학 경영학과)",
      "userId": "01852339631245886585"
     },
     "user_tz": -540
    },
    "id": "2zuPEtCBDBsK",
    "outputId": "a3528797-1c67-43fe-dc9e-2d0e4f50dcc7"
   },
   "outputs": [
    {
     "name": "stdout",
     "output_type": "stream",
     "text": [
      "Data shape: (1436, 37)\n",
      "Null count: 0\n",
      "\n",
      "<class 'pandas.core.frame.DataFrame'>\n",
      "RangeIndex: 1436 entries, 0 to 1435\n",
      "Data columns (total 37 columns):\n",
      " #   Column            Non-Null Count  Dtype \n",
      "---  ------            --------------  ----- \n",
      " 0   Id                1436 non-null   int64 \n",
      " 1   Model             1436 non-null   object\n",
      " 2   Price             1436 non-null   int64 \n",
      " 3   Age_08_04         1436 non-null   int64 \n",
      " 4   Mfg_Month         1436 non-null   int64 \n",
      " 5   Mfg_Year          1436 non-null   int64 \n",
      " 6   KM                1436 non-null   int64 \n",
      " 7   Fuel_Type         1436 non-null   object\n",
      " 8   HP                1436 non-null   int64 \n",
      " 9   Met_Color         1436 non-null   int64 \n",
      " 10  Automatic         1436 non-null   int64 \n",
      " 11  cc                1436 non-null   int64 \n",
      " 12  Doors             1436 non-null   int64 \n",
      " 13  Cylinders         1436 non-null   int64 \n",
      " 14  Gears             1436 non-null   int64 \n",
      " 15  Quarterly_Tax     1436 non-null   int64 \n",
      " 16  Weight            1436 non-null   int64 \n",
      " 17  Mfr_Guarantee     1436 non-null   int64 \n",
      " 18  BOVAG_Guarantee   1436 non-null   int64 \n",
      " 19  Guarantee_Period  1436 non-null   int64 \n",
      " 20  ABS               1436 non-null   int64 \n",
      " 21  Airbag_1          1436 non-null   int64 \n",
      " 22  Airbag_2          1436 non-null   int64 \n",
      " 23  Airco             1436 non-null   int64 \n",
      " 24  Automatic_airco   1436 non-null   int64 \n",
      " 25  Boardcomputer     1436 non-null   int64 \n",
      " 26  CD_Player         1436 non-null   int64 \n",
      " 27  Central_Lock      1436 non-null   int64 \n",
      " 28  Powered_Windows   1436 non-null   int64 \n",
      " 29  Power_Steering    1436 non-null   int64 \n",
      " 30  Radio             1436 non-null   int64 \n",
      " 31  Mistlamps         1436 non-null   int64 \n",
      " 32  Sport_Model       1436 non-null   int64 \n",
      " 33  Backseat_Divider  1436 non-null   int64 \n",
      " 34  Metallic_Rim      1436 non-null   int64 \n",
      " 35  Radio_cassette    1436 non-null   int64 \n",
      " 36  Tow_Bar           1436 non-null   int64 \n",
      "dtypes: int64(35), object(2)\n",
      "memory usage: 415.2+ KB\n"
     ]
    }
   ],
   "source": [
    "# 데이터 기본 정보 확인\n",
    "print(f'Data shape: {toyota.shape}')\n",
    "print(f'Null count: {toyota.isnull().sum().sum()}')\n",
    "print()\n",
    "toyota.info()"
   ]
  },
  {
   "cell_type": "code",
   "execution_count": 6,
   "metadata": {
    "colab": {
     "base_uri": "https://localhost:8080/"
    },
    "executionInfo": {
     "elapsed": 335,
     "status": "ok",
     "timestamp": 1658756413374,
     "user": {
      "displayName": "김시원(경영대학 경영학과)",
      "userId": "01852339631245886585"
     },
     "user_tz": -540
    },
    "id": "WRLSzSw_LVtt",
    "outputId": "087e64e4-2f53-4352-aa82-24e63b314a2c"
   },
   "outputs": [
    {
     "data": {
      "text/plain": [
       "Model        object\n",
       "Fuel_Type    object\n",
       "dtype: object"
      ]
     },
     "execution_count": 6,
     "metadata": {},
     "output_type": "execute_result"
    }
   ],
   "source": [
    "# 문자형(object) 데이터 조회\n",
    "toyota.dtypes[toyota.dtypes == 'object']\n",
    "\n",
    "# Model -> 차량 모델명\n",
    "# Fuel_Type -> 범주형 변수"
   ]
  },
  {
   "cell_type": "code",
   "execution_count": 7,
   "metadata": {
    "colab": {
     "base_uri": "https://localhost:8080/"
    },
    "executionInfo": {
     "elapsed": 10,
     "status": "ok",
     "timestamp": 1658756414779,
     "user": {
      "displayName": "김시원(경영대학 경영학과)",
      "userId": "01852339631245886585"
     },
     "user_tz": -540
    },
    "id": "623ESChcL858",
    "outputId": "b827c162-f1b2-4d9e-d06a-20011435f058"
   },
   "outputs": [
    {
     "data": {
      "text/plain": [
       "array(['Diesel', 'Petrol', 'CNG'], dtype=object)"
      ]
     },
     "execution_count": 7,
     "metadata": {},
     "output_type": "execute_result"
    }
   ],
   "source": [
    "# Fuel_Type 범주의 종류 확인\n",
    "toyota['Fuel_Type'].unique()"
   ]
  },
  {
   "cell_type": "markdown",
   "metadata": {
    "id": "vMcjabg9DBsL"
   },
   "source": [
    "### 데이터 전처리(Data Preprocessing)"
   ]
  },
  {
   "cell_type": "markdown",
   "metadata": {
    "id": "ksHULAgKDBsL"
   },
   "source": [
    "#### 데이터 인코딩\n",
    "- 모델 학습에 사용되는 범주형 변수(Fuel_Type)를 수치형 변수로 변환"
   ]
  },
  {
   "cell_type": "code",
   "execution_count": 8,
   "metadata": {
    "executionInfo": {
     "elapsed": 6,
     "status": "ok",
     "timestamp": 1658756416293,
     "user": {
      "displayName": "김시원(경영대학 경영학과)",
      "userId": "01852339631245886585"
     },
     "user_tz": -540
    },
    "id": "5KRj58dHls-d"
   },
   "outputs": [],
   "source": [
    "import pandas as pd"
   ]
  },
  {
   "cell_type": "code",
   "execution_count": 9,
   "metadata": {
    "colab": {
     "base_uri": "https://localhost:8080/"
    },
    "executionInfo": {
     "elapsed": 6,
     "status": "ok",
     "timestamp": 1658756417564,
     "user": {
      "displayName": "김시원(경영대학 경영학과)",
      "userId": "01852339631245886585"
     },
     "user_tz": -540
    },
    "id": "3qtOlhZgOKlp",
    "outputId": "08a3f993-f0cc-4eea-b417-7e721f6f5c07"
   },
   "outputs": [
    {
     "data": {
      "text/plain": [
       "Index(['Id', 'Model', 'Price', 'Age_08_04', 'Mfg_Month', 'Mfg_Year', 'KM',\n",
       "       'HP', 'Met_Color', 'Automatic', 'cc', 'Doors', 'Cylinders', 'Gears',\n",
       "       'Quarterly_Tax', 'Weight', 'Mfr_Guarantee', 'BOVAG_Guarantee',\n",
       "       'Guarantee_Period', 'ABS', 'Airbag_1', 'Airbag_2', 'Airco',\n",
       "       'Automatic_airco', 'Boardcomputer', 'CD_Player', 'Central_Lock',\n",
       "       'Powered_Windows', 'Power_Steering', 'Radio', 'Mistlamps',\n",
       "       'Sport_Model', 'Backseat_Divider', 'Metallic_Rim', 'Radio_cassette',\n",
       "       'Tow_Bar', 'FT_CNG', 'FT_Diesel', 'FT_Petrol'],\n",
       "      dtype='object')"
      ]
     },
     "execution_count": 9,
     "metadata": {},
     "output_type": "execute_result"
    }
   ],
   "source": [
    "# Fuel_Type: One-Hot Encoding\n",
    "toyota = pd.get_dummies(toyota, columns=['Fuel_Type'], prefix='FT')\n",
    "toyota.columns"
   ]
  },
  {
   "cell_type": "markdown",
   "metadata": {
    "id": "dCY1yj_zDBsL"
   },
   "source": [
    "#### 변수 삭제\n",
    "- 모델 학습에 불필요한 변수 제거"
   ]
  },
  {
   "cell_type": "code",
   "execution_count": 10,
   "metadata": {
    "colab": {
     "base_uri": "https://localhost:8080/",
     "height": 235
    },
    "executionInfo": {
     "elapsed": 8,
     "status": "ok",
     "timestamp": 1658756420140,
     "user": {
      "displayName": "김시원(경영대학 경영학과)",
      "userId": "01852339631245886585"
     },
     "user_tz": -540
    },
    "id": "cUxwJ0voQTy_",
    "outputId": "29978d13-e110-48a5-f3d6-c24352b7f540"
   },
   "outputs": [
    {
     "data": {
      "text/html": [
       "\n",
       "  <div id=\"df-1caba716-db93-44b0-aecd-f8d9f04acad8\">\n",
       "    <div class=\"colab-df-container\">\n",
       "      <div>\n",
       "<style scoped>\n",
       "    .dataframe tbody tr th:only-of-type {\n",
       "        vertical-align: middle;\n",
       "    }\n",
       "\n",
       "    .dataframe tbody tr th {\n",
       "        vertical-align: top;\n",
       "    }\n",
       "\n",
       "    .dataframe thead th {\n",
       "        text-align: right;\n",
       "    }\n",
       "</style>\n",
       "<table border=\"1\" class=\"dataframe\">\n",
       "  <thead>\n",
       "    <tr style=\"text-align: right;\">\n",
       "      <th></th>\n",
       "      <th>Price</th>\n",
       "      <th>Age_08_04</th>\n",
       "      <th>Mfg_Month</th>\n",
       "      <th>Mfg_Year</th>\n",
       "      <th>KM</th>\n",
       "      <th>HP</th>\n",
       "      <th>Met_Color</th>\n",
       "      <th>Automatic</th>\n",
       "      <th>cc</th>\n",
       "      <th>Doors</th>\n",
       "      <th>...</th>\n",
       "      <th>Radio</th>\n",
       "      <th>Mistlamps</th>\n",
       "      <th>Sport_Model</th>\n",
       "      <th>Backseat_Divider</th>\n",
       "      <th>Metallic_Rim</th>\n",
       "      <th>Radio_cassette</th>\n",
       "      <th>Tow_Bar</th>\n",
       "      <th>FT_CNG</th>\n",
       "      <th>FT_Diesel</th>\n",
       "      <th>FT_Petrol</th>\n",
       "    </tr>\n",
       "  </thead>\n",
       "  <tbody>\n",
       "    <tr>\n",
       "      <th>0</th>\n",
       "      <td>13500</td>\n",
       "      <td>23</td>\n",
       "      <td>10</td>\n",
       "      <td>2002</td>\n",
       "      <td>46986</td>\n",
       "      <td>90</td>\n",
       "      <td>1</td>\n",
       "      <td>0</td>\n",
       "      <td>2000</td>\n",
       "      <td>3</td>\n",
       "      <td>...</td>\n",
       "      <td>0</td>\n",
       "      <td>0</td>\n",
       "      <td>0</td>\n",
       "      <td>1</td>\n",
       "      <td>0</td>\n",
       "      <td>0</td>\n",
       "      <td>0</td>\n",
       "      <td>0</td>\n",
       "      <td>1</td>\n",
       "      <td>0</td>\n",
       "    </tr>\n",
       "    <tr>\n",
       "      <th>1</th>\n",
       "      <td>13750</td>\n",
       "      <td>23</td>\n",
       "      <td>10</td>\n",
       "      <td>2002</td>\n",
       "      <td>72937</td>\n",
       "      <td>90</td>\n",
       "      <td>1</td>\n",
       "      <td>0</td>\n",
       "      <td>2000</td>\n",
       "      <td>3</td>\n",
       "      <td>...</td>\n",
       "      <td>0</td>\n",
       "      <td>0</td>\n",
       "      <td>0</td>\n",
       "      <td>1</td>\n",
       "      <td>0</td>\n",
       "      <td>0</td>\n",
       "      <td>0</td>\n",
       "      <td>0</td>\n",
       "      <td>1</td>\n",
       "      <td>0</td>\n",
       "    </tr>\n",
       "    <tr>\n",
       "      <th>2</th>\n",
       "      <td>13950</td>\n",
       "      <td>24</td>\n",
       "      <td>9</td>\n",
       "      <td>2002</td>\n",
       "      <td>41711</td>\n",
       "      <td>90</td>\n",
       "      <td>1</td>\n",
       "      <td>0</td>\n",
       "      <td>2000</td>\n",
       "      <td>3</td>\n",
       "      <td>...</td>\n",
       "      <td>0</td>\n",
       "      <td>0</td>\n",
       "      <td>0</td>\n",
       "      <td>1</td>\n",
       "      <td>0</td>\n",
       "      <td>0</td>\n",
       "      <td>0</td>\n",
       "      <td>0</td>\n",
       "      <td>1</td>\n",
       "      <td>0</td>\n",
       "    </tr>\n",
       "    <tr>\n",
       "      <th>3</th>\n",
       "      <td>14950</td>\n",
       "      <td>26</td>\n",
       "      <td>7</td>\n",
       "      <td>2002</td>\n",
       "      <td>48000</td>\n",
       "      <td>90</td>\n",
       "      <td>0</td>\n",
       "      <td>0</td>\n",
       "      <td>2000</td>\n",
       "      <td>3</td>\n",
       "      <td>...</td>\n",
       "      <td>0</td>\n",
       "      <td>0</td>\n",
       "      <td>0</td>\n",
       "      <td>1</td>\n",
       "      <td>0</td>\n",
       "      <td>0</td>\n",
       "      <td>0</td>\n",
       "      <td>0</td>\n",
       "      <td>1</td>\n",
       "      <td>0</td>\n",
       "    </tr>\n",
       "    <tr>\n",
       "      <th>4</th>\n",
       "      <td>13750</td>\n",
       "      <td>30</td>\n",
       "      <td>3</td>\n",
       "      <td>2002</td>\n",
       "      <td>38500</td>\n",
       "      <td>90</td>\n",
       "      <td>0</td>\n",
       "      <td>0</td>\n",
       "      <td>2000</td>\n",
       "      <td>3</td>\n",
       "      <td>...</td>\n",
       "      <td>0</td>\n",
       "      <td>1</td>\n",
       "      <td>0</td>\n",
       "      <td>1</td>\n",
       "      <td>0</td>\n",
       "      <td>0</td>\n",
       "      <td>0</td>\n",
       "      <td>0</td>\n",
       "      <td>1</td>\n",
       "      <td>0</td>\n",
       "    </tr>\n",
       "  </tbody>\n",
       "</table>\n",
       "<p>5 rows × 37 columns</p>\n",
       "</div>\n",
       "      <button class=\"colab-df-convert\" onclick=\"convertToInteractive('df-1caba716-db93-44b0-aecd-f8d9f04acad8')\"\n",
       "              title=\"Convert this dataframe to an interactive table.\"\n",
       "              style=\"display:none;\">\n",
       "        \n",
       "  <svg xmlns=\"http://www.w3.org/2000/svg\" height=\"24px\"viewBox=\"0 0 24 24\"\n",
       "       width=\"24px\">\n",
       "    <path d=\"M0 0h24v24H0V0z\" fill=\"none\"/>\n",
       "    <path d=\"M18.56 5.44l.94 2.06.94-2.06 2.06-.94-2.06-.94-.94-2.06-.94 2.06-2.06.94zm-11 1L8.5 8.5l.94-2.06 2.06-.94-2.06-.94L8.5 2.5l-.94 2.06-2.06.94zm10 10l.94 2.06.94-2.06 2.06-.94-2.06-.94-.94-2.06-.94 2.06-2.06.94z\"/><path d=\"M17.41 7.96l-1.37-1.37c-.4-.4-.92-.59-1.43-.59-.52 0-1.04.2-1.43.59L10.3 9.45l-7.72 7.72c-.78.78-.78 2.05 0 2.83L4 21.41c.39.39.9.59 1.41.59.51 0 1.02-.2 1.41-.59l7.78-7.78 2.81-2.81c.8-.78.8-2.07 0-2.86zM5.41 20L4 18.59l7.72-7.72 1.47 1.35L5.41 20z\"/>\n",
       "  </svg>\n",
       "      </button>\n",
       "      \n",
       "  <style>\n",
       "    .colab-df-container {\n",
       "      display:flex;\n",
       "      flex-wrap:wrap;\n",
       "      gap: 12px;\n",
       "    }\n",
       "\n",
       "    .colab-df-convert {\n",
       "      background-color: #E8F0FE;\n",
       "      border: none;\n",
       "      border-radius: 50%;\n",
       "      cursor: pointer;\n",
       "      display: none;\n",
       "      fill: #1967D2;\n",
       "      height: 32px;\n",
       "      padding: 0 0 0 0;\n",
       "      width: 32px;\n",
       "    }\n",
       "\n",
       "    .colab-df-convert:hover {\n",
       "      background-color: #E2EBFA;\n",
       "      box-shadow: 0px 1px 2px rgba(60, 64, 67, 0.3), 0px 1px 3px 1px rgba(60, 64, 67, 0.15);\n",
       "      fill: #174EA6;\n",
       "    }\n",
       "\n",
       "    [theme=dark] .colab-df-convert {\n",
       "      background-color: #3B4455;\n",
       "      fill: #D2E3FC;\n",
       "    }\n",
       "\n",
       "    [theme=dark] .colab-df-convert:hover {\n",
       "      background-color: #434B5C;\n",
       "      box-shadow: 0px 1px 3px 1px rgba(0, 0, 0, 0.15);\n",
       "      filter: drop-shadow(0px 1px 2px rgba(0, 0, 0, 0.3));\n",
       "      fill: #FFFFFF;\n",
       "    }\n",
       "  </style>\n",
       "\n",
       "      <script>\n",
       "        const buttonEl =\n",
       "          document.querySelector('#df-1caba716-db93-44b0-aecd-f8d9f04acad8 button.colab-df-convert');\n",
       "        buttonEl.style.display =\n",
       "          google.colab.kernel.accessAllowed ? 'block' : 'none';\n",
       "\n",
       "        async function convertToInteractive(key) {\n",
       "          const element = document.querySelector('#df-1caba716-db93-44b0-aecd-f8d9f04acad8');\n",
       "          const dataTable =\n",
       "            await google.colab.kernel.invokeFunction('convertToInteractive',\n",
       "                                                     [key], {});\n",
       "          if (!dataTable) return;\n",
       "\n",
       "          const docLinkHtml = 'Like what you see? Visit the ' +\n",
       "            '<a target=\"_blank\" href=https://colab.research.google.com/notebooks/data_table.ipynb>data table notebook</a>'\n",
       "            + ' to learn more about interactive tables.';\n",
       "          element.innerHTML = '';\n",
       "          dataTable['output_type'] = 'display_data';\n",
       "          await google.colab.output.renderOutput(dataTable, element);\n",
       "          const docLink = document.createElement('div');\n",
       "          docLink.innerHTML = docLinkHtml;\n",
       "          element.appendChild(docLink);\n",
       "        }\n",
       "      </script>\n",
       "    </div>\n",
       "  </div>\n",
       "  "
      ],
      "text/plain": [
       "   Price  Age_08_04  Mfg_Month  Mfg_Year     KM  HP  Met_Color  Automatic  \\\n",
       "0  13500         23         10      2002  46986  90          1          0   \n",
       "1  13750         23         10      2002  72937  90          1          0   \n",
       "2  13950         24          9      2002  41711  90          1          0   \n",
       "3  14950         26          7      2002  48000  90          0          0   \n",
       "4  13750         30          3      2002  38500  90          0          0   \n",
       "\n",
       "     cc  Doors  ...  Radio  Mistlamps  Sport_Model  Backseat_Divider  \\\n",
       "0  2000      3  ...      0          0            0                 1   \n",
       "1  2000      3  ...      0          0            0                 1   \n",
       "2  2000      3  ...      0          0            0                 1   \n",
       "3  2000      3  ...      0          0            0                 1   \n",
       "4  2000      3  ...      0          1            0                 1   \n",
       "\n",
       "   Metallic_Rim  Radio_cassette  Tow_Bar  FT_CNG  FT_Diesel  FT_Petrol  \n",
       "0             0               0        0       0          1          0  \n",
       "1             0               0        0       0          1          0  \n",
       "2             0               0        0       0          1          0  \n",
       "3             0               0        0       0          1          0  \n",
       "4             0               0        0       0          1          0  \n",
       "\n",
       "[5 rows x 37 columns]"
      ]
     },
     "execution_count": 10,
     "metadata": {},
     "output_type": "execute_result"
    }
   ],
   "source": [
    "# 차량 번호(Id), 모델명(Model) 변수 삭제\n",
    "toyota = toyota.drop(['Id', 'Model'], axis=1)\n",
    "toyota.head()"
   ]
  },
  {
   "cell_type": "markdown",
   "metadata": {
    "id": "lWGWgcXhDBsL"
   },
   "source": [
    "#### 데이터 스케일링(Data Scaling)\n",
    "- KNN 알고리즘은 거리를 기반으로 학습과 예측을 수행\n",
    "- 선형 계열/거리 기반 알고리즘의 성능을 향상시키기 위해 학습 데이터 표준화\n",
    "- StandardScaler"
   ]
  },
  {
   "cell_type": "code",
   "execution_count": 11,
   "metadata": {
    "colab": {
     "base_uri": "https://localhost:8080/",
     "height": 235
    },
    "executionInfo": {
     "elapsed": 1033,
     "status": "ok",
     "timestamp": 1658756427482,
     "user": {
      "displayName": "김시원(경영대학 경영학과)",
      "userId": "01852339631245886585"
     },
     "user_tz": -540
    },
    "id": "rH05BaufDBsM",
    "outputId": "6cf3b292-4ff9-4842-e858-e5652995ad08"
   },
   "outputs": [
    {
     "data": {
      "text/html": [
       "\n",
       "  <div id=\"df-a69f7559-657a-4f31-add9-5e52136f6e18\">\n",
       "    <div class=\"colab-df-container\">\n",
       "      <div>\n",
       "<style scoped>\n",
       "    .dataframe tbody tr th:only-of-type {\n",
       "        vertical-align: middle;\n",
       "    }\n",
       "\n",
       "    .dataframe tbody tr th {\n",
       "        vertical-align: top;\n",
       "    }\n",
       "\n",
       "    .dataframe thead th {\n",
       "        text-align: right;\n",
       "    }\n",
       "</style>\n",
       "<table border=\"1\" class=\"dataframe\">\n",
       "  <thead>\n",
       "    <tr style=\"text-align: right;\">\n",
       "      <th></th>\n",
       "      <th>Price</th>\n",
       "      <th>Age_08_04</th>\n",
       "      <th>Mfg_Month</th>\n",
       "      <th>Mfg_Year</th>\n",
       "      <th>KM</th>\n",
       "      <th>HP</th>\n",
       "      <th>Met_Color</th>\n",
       "      <th>Automatic</th>\n",
       "      <th>cc</th>\n",
       "      <th>Doors</th>\n",
       "      <th>...</th>\n",
       "      <th>Radio</th>\n",
       "      <th>Mistlamps</th>\n",
       "      <th>Sport_Model</th>\n",
       "      <th>Backseat_Divider</th>\n",
       "      <th>Metallic_Rim</th>\n",
       "      <th>Radio_cassette</th>\n",
       "      <th>Tow_Bar</th>\n",
       "      <th>FT_CNG</th>\n",
       "      <th>FT_Diesel</th>\n",
       "      <th>FT_Petrol</th>\n",
       "    </tr>\n",
       "  </thead>\n",
       "  <tbody>\n",
       "    <tr>\n",
       "      <th>0</th>\n",
       "      <td>0.763763</td>\n",
       "      <td>-1.771966</td>\n",
       "      <td>1.327576</td>\n",
       "      <td>1.541796</td>\n",
       "      <td>-0.574695</td>\n",
       "      <td>-0.768042</td>\n",
       "      <td>0.694219</td>\n",
       "      <td>-0.242893</td>\n",
       "      <td>0.997419</td>\n",
       "      <td>-1.085139</td>\n",
       "      <td>...</td>\n",
       "      <td>-0.41387</td>\n",
       "      <td>-0.588073</td>\n",
       "      <td>-0.654871</td>\n",
       "      <td>0.546235</td>\n",
       "      <td>-0.507388</td>\n",
       "      <td>-0.412716</td>\n",
       "      <td>-0.620293</td>\n",
       "      <td>-0.109454</td>\n",
       "      <td>2.874807</td>\n",
       "      <td>-2.710874</td>\n",
       "    </tr>\n",
       "    <tr>\n",
       "      <th>1</th>\n",
       "      <td>0.832715</td>\n",
       "      <td>-1.771966</td>\n",
       "      <td>1.327576</td>\n",
       "      <td>1.541796</td>\n",
       "      <td>0.117454</td>\n",
       "      <td>-0.768042</td>\n",
       "      <td>0.694219</td>\n",
       "      <td>-0.242893</td>\n",
       "      <td>0.997419</td>\n",
       "      <td>-1.085139</td>\n",
       "      <td>...</td>\n",
       "      <td>-0.41387</td>\n",
       "      <td>-0.588073</td>\n",
       "      <td>-0.654871</td>\n",
       "      <td>0.546235</td>\n",
       "      <td>-0.507388</td>\n",
       "      <td>-0.412716</td>\n",
       "      <td>-0.620293</td>\n",
       "      <td>-0.109454</td>\n",
       "      <td>2.874807</td>\n",
       "      <td>-2.710874</td>\n",
       "    </tr>\n",
       "    <tr>\n",
       "      <th>2</th>\n",
       "      <td>0.887877</td>\n",
       "      <td>-1.718184</td>\n",
       "      <td>1.029329</td>\n",
       "      <td>1.541796</td>\n",
       "      <td>-0.715386</td>\n",
       "      <td>-0.768042</td>\n",
       "      <td>0.694219</td>\n",
       "      <td>-0.242893</td>\n",
       "      <td>0.997419</td>\n",
       "      <td>-1.085139</td>\n",
       "      <td>...</td>\n",
       "      <td>-0.41387</td>\n",
       "      <td>-0.588073</td>\n",
       "      <td>-0.654871</td>\n",
       "      <td>0.546235</td>\n",
       "      <td>-0.507388</td>\n",
       "      <td>-0.412716</td>\n",
       "      <td>-0.620293</td>\n",
       "      <td>-0.109454</td>\n",
       "      <td>2.874807</td>\n",
       "      <td>-2.710874</td>\n",
       "    </tr>\n",
       "    <tr>\n",
       "      <th>3</th>\n",
       "      <td>1.163685</td>\n",
       "      <td>-1.610620</td>\n",
       "      <td>0.432833</td>\n",
       "      <td>1.541796</td>\n",
       "      <td>-0.547650</td>\n",
       "      <td>-0.768042</td>\n",
       "      <td>-1.440467</td>\n",
       "      <td>-0.242893</td>\n",
       "      <td>0.997419</td>\n",
       "      <td>-1.085139</td>\n",
       "      <td>...</td>\n",
       "      <td>-0.41387</td>\n",
       "      <td>-0.588073</td>\n",
       "      <td>-0.654871</td>\n",
       "      <td>0.546235</td>\n",
       "      <td>-0.507388</td>\n",
       "      <td>-0.412716</td>\n",
       "      <td>-0.620293</td>\n",
       "      <td>-0.109454</td>\n",
       "      <td>2.874807</td>\n",
       "      <td>-2.710874</td>\n",
       "    </tr>\n",
       "    <tr>\n",
       "      <th>4</th>\n",
       "      <td>0.832715</td>\n",
       "      <td>-1.395491</td>\n",
       "      <td>-0.760158</td>\n",
       "      <td>1.541796</td>\n",
       "      <td>-0.801028</td>\n",
       "      <td>-0.768042</td>\n",
       "      <td>-1.440467</td>\n",
       "      <td>-0.242893</td>\n",
       "      <td>0.997419</td>\n",
       "      <td>-1.085139</td>\n",
       "      <td>...</td>\n",
       "      <td>-0.41387</td>\n",
       "      <td>1.700470</td>\n",
       "      <td>-0.654871</td>\n",
       "      <td>0.546235</td>\n",
       "      <td>-0.507388</td>\n",
       "      <td>-0.412716</td>\n",
       "      <td>-0.620293</td>\n",
       "      <td>-0.109454</td>\n",
       "      <td>2.874807</td>\n",
       "      <td>-2.710874</td>\n",
       "    </tr>\n",
       "  </tbody>\n",
       "</table>\n",
       "<p>5 rows × 37 columns</p>\n",
       "</div>\n",
       "      <button class=\"colab-df-convert\" onclick=\"convertToInteractive('df-a69f7559-657a-4f31-add9-5e52136f6e18')\"\n",
       "              title=\"Convert this dataframe to an interactive table.\"\n",
       "              style=\"display:none;\">\n",
       "        \n",
       "  <svg xmlns=\"http://www.w3.org/2000/svg\" height=\"24px\"viewBox=\"0 0 24 24\"\n",
       "       width=\"24px\">\n",
       "    <path d=\"M0 0h24v24H0V0z\" fill=\"none\"/>\n",
       "    <path d=\"M18.56 5.44l.94 2.06.94-2.06 2.06-.94-2.06-.94-.94-2.06-.94 2.06-2.06.94zm-11 1L8.5 8.5l.94-2.06 2.06-.94-2.06-.94L8.5 2.5l-.94 2.06-2.06.94zm10 10l.94 2.06.94-2.06 2.06-.94-2.06-.94-.94-2.06-.94 2.06-2.06.94z\"/><path d=\"M17.41 7.96l-1.37-1.37c-.4-.4-.92-.59-1.43-.59-.52 0-1.04.2-1.43.59L10.3 9.45l-7.72 7.72c-.78.78-.78 2.05 0 2.83L4 21.41c.39.39.9.59 1.41.59.51 0 1.02-.2 1.41-.59l7.78-7.78 2.81-2.81c.8-.78.8-2.07 0-2.86zM5.41 20L4 18.59l7.72-7.72 1.47 1.35L5.41 20z\"/>\n",
       "  </svg>\n",
       "      </button>\n",
       "      \n",
       "  <style>\n",
       "    .colab-df-container {\n",
       "      display:flex;\n",
       "      flex-wrap:wrap;\n",
       "      gap: 12px;\n",
       "    }\n",
       "\n",
       "    .colab-df-convert {\n",
       "      background-color: #E8F0FE;\n",
       "      border: none;\n",
       "      border-radius: 50%;\n",
       "      cursor: pointer;\n",
       "      display: none;\n",
       "      fill: #1967D2;\n",
       "      height: 32px;\n",
       "      padding: 0 0 0 0;\n",
       "      width: 32px;\n",
       "    }\n",
       "\n",
       "    .colab-df-convert:hover {\n",
       "      background-color: #E2EBFA;\n",
       "      box-shadow: 0px 1px 2px rgba(60, 64, 67, 0.3), 0px 1px 3px 1px rgba(60, 64, 67, 0.15);\n",
       "      fill: #174EA6;\n",
       "    }\n",
       "\n",
       "    [theme=dark] .colab-df-convert {\n",
       "      background-color: #3B4455;\n",
       "      fill: #D2E3FC;\n",
       "    }\n",
       "\n",
       "    [theme=dark] .colab-df-convert:hover {\n",
       "      background-color: #434B5C;\n",
       "      box-shadow: 0px 1px 3px 1px rgba(0, 0, 0, 0.15);\n",
       "      filter: drop-shadow(0px 1px 2px rgba(0, 0, 0, 0.3));\n",
       "      fill: #FFFFFF;\n",
       "    }\n",
       "  </style>\n",
       "\n",
       "      <script>\n",
       "        const buttonEl =\n",
       "          document.querySelector('#df-a69f7559-657a-4f31-add9-5e52136f6e18 button.colab-df-convert');\n",
       "        buttonEl.style.display =\n",
       "          google.colab.kernel.accessAllowed ? 'block' : 'none';\n",
       "\n",
       "        async function convertToInteractive(key) {\n",
       "          const element = document.querySelector('#df-a69f7559-657a-4f31-add9-5e52136f6e18');\n",
       "          const dataTable =\n",
       "            await google.colab.kernel.invokeFunction('convertToInteractive',\n",
       "                                                     [key], {});\n",
       "          if (!dataTable) return;\n",
       "\n",
       "          const docLinkHtml = 'Like what you see? Visit the ' +\n",
       "            '<a target=\"_blank\" href=https://colab.research.google.com/notebooks/data_table.ipynb>data table notebook</a>'\n",
       "            + ' to learn more about interactive tables.';\n",
       "          element.innerHTML = '';\n",
       "          dataTable['output_type'] = 'display_data';\n",
       "          await google.colab.output.renderOutput(dataTable, element);\n",
       "          const docLink = document.createElement('div');\n",
       "          docLink.innerHTML = docLinkHtml;\n",
       "          element.appendChild(docLink);\n",
       "        }\n",
       "      </script>\n",
       "    </div>\n",
       "  </div>\n",
       "  "
      ],
      "text/plain": [
       "      Price  Age_08_04  Mfg_Month  Mfg_Year        KM        HP  Met_Color  \\\n",
       "0  0.763763  -1.771966   1.327576  1.541796 -0.574695 -0.768042   0.694219   \n",
       "1  0.832715  -1.771966   1.327576  1.541796  0.117454 -0.768042   0.694219   \n",
       "2  0.887877  -1.718184   1.029329  1.541796 -0.715386 -0.768042   0.694219   \n",
       "3  1.163685  -1.610620   0.432833  1.541796 -0.547650 -0.768042  -1.440467   \n",
       "4  0.832715  -1.395491  -0.760158  1.541796 -0.801028 -0.768042  -1.440467   \n",
       "\n",
       "   Automatic        cc     Doors  ...    Radio  Mistlamps  Sport_Model  \\\n",
       "0  -0.242893  0.997419 -1.085139  ... -0.41387  -0.588073    -0.654871   \n",
       "1  -0.242893  0.997419 -1.085139  ... -0.41387  -0.588073    -0.654871   \n",
       "2  -0.242893  0.997419 -1.085139  ... -0.41387  -0.588073    -0.654871   \n",
       "3  -0.242893  0.997419 -1.085139  ... -0.41387  -0.588073    -0.654871   \n",
       "4  -0.242893  0.997419 -1.085139  ... -0.41387   1.700470    -0.654871   \n",
       "\n",
       "   Backseat_Divider  Metallic_Rim  Radio_cassette   Tow_Bar    FT_CNG  \\\n",
       "0          0.546235     -0.507388       -0.412716 -0.620293 -0.109454   \n",
       "1          0.546235     -0.507388       -0.412716 -0.620293 -0.109454   \n",
       "2          0.546235     -0.507388       -0.412716 -0.620293 -0.109454   \n",
       "3          0.546235     -0.507388       -0.412716 -0.620293 -0.109454   \n",
       "4          0.546235     -0.507388       -0.412716 -0.620293 -0.109454   \n",
       "\n",
       "   FT_Diesel  FT_Petrol  \n",
       "0   2.874807  -2.710874  \n",
       "1   2.874807  -2.710874  \n",
       "2   2.874807  -2.710874  \n",
       "3   2.874807  -2.710874  \n",
       "4   2.874807  -2.710874  \n",
       "\n",
       "[5 rows x 37 columns]"
      ]
     },
     "execution_count": 11,
     "metadata": {},
     "output_type": "execute_result"
    }
   ],
   "source": [
    "from sklearn.preprocessing import StandardScaler\n",
    "\n",
    "# StandardScaler 객체 생성\n",
    "scaler = StandardScaler()\n",
    "\n",
    "# fit -> 표준화 수행\n",
    "# transform -> numpy 배열 형태로 변환하여 반환(표준화 데이터)\n",
    "scaled = scaler.fit_transform(toyota)\n",
    "\n",
    "# 표준화된 데이터를 데이터프레임에 저장\n",
    "scaled_df = pd.DataFrame(scaled, columns=toyota.columns)\n",
    "scaled_df.head()"
   ]
  },
  {
   "cell_type": "markdown",
   "metadata": {
    "id": "SJuI3mUeRrLP"
   },
   "source": [
    "### 데이터 분할\n",
    "- feature/target 분리\n",
    "- train/test 데이터 분할"
   ]
  },
  {
   "cell_type": "code",
   "execution_count": 12,
   "metadata": {
    "executionInfo": {
     "elapsed": 396,
     "status": "ok",
     "timestamp": 1658756430457,
     "user": {
      "displayName": "김시원(경영대학 경영학과)",
      "userId": "01852339631245886585"
     },
     "user_tz": -540
    },
    "id": "BVvHXYugQxfQ"
   },
   "outputs": [],
   "source": [
    "# feature, target 분리\n",
    "y_target = scaled_df['Price']\n",
    "x_features = scaled_df.drop('Price', axis=1)"
   ]
  },
  {
   "cell_type": "code",
   "execution_count": 13,
   "metadata": {
    "colab": {
     "base_uri": "https://localhost:8080/"
    },
    "executionInfo": {
     "elapsed": 3,
     "status": "ok",
     "timestamp": 1658756431061,
     "user": {
      "displayName": "김시원(경영대학 경영학과)",
      "userId": "01852339631245886585"
     },
     "user_tz": -540
    },
    "id": "klKdsOF7RCb9",
    "outputId": "5d047e5d-a3db-4fea-8d65-481223eac9b3"
   },
   "outputs": [
    {
     "name": "stdout",
     "output_type": "stream",
     "text": [
      "(1005, 36) (431, 36)\n"
     ]
    }
   ],
   "source": [
    "from sklearn.model_selection import train_test_split\n",
    "\n",
    "# 학습/테스트 데이터 분할(test_size: 30%)\n",
    "train_x, test_x, train_y, test_y = train_test_split(x_features, y_target,\n",
    "                                                    test_size=0.3,\n",
    "                                                    random_state=1)\n",
    "\n",
    "print(train_x.shape, test_x.shape)"
   ]
  },
  {
   "cell_type": "markdown",
   "metadata": {
    "id": "JKpA8IqsxFTd"
   },
   "source": [
    "## KNN Regression\n",
    "- [KNeighborsRegressor document](https://scikit-learn.org/stable/modules/generated/sklearn.neighbors.KNeighborsRegressor.html#sklearn.neighbors.KNeighborsRegressor)"
   ]
  },
  {
   "cell_type": "code",
   "execution_count": 14,
   "metadata": {
    "executionInfo": {
     "elapsed": 376,
     "status": "ok",
     "timestamp": 1658756433604,
     "user": {
      "displayName": "김시원(경영대학 경영학과)",
      "userId": "01852339631245886585"
     },
     "user_tz": -540
    },
    "id": "dXHYRYmTDBsM"
   },
   "outputs": [],
   "source": [
    "# KNN Regression 알고리즘 import\n",
    "from sklearn.neighbors import KNeighborsRegressor\n",
    "\n",
    "# 성능 평가 함수 import\n",
    "from sklearn.metrics import mean_squared_error\n",
    "from sklearn.metrics import mean_absolute_error\n",
    "from sklearn.metrics import r2_score"
   ]
  },
  {
   "cell_type": "markdown",
   "metadata": {
    "id": "u7gI9ASso2vT"
   },
   "source": [
    "### Multiple K에 대한 모델링 및 성능 비교\n",
    "- K는 이웃 데이터의 수를 의미\n",
    "- K를 정하는 확실한 기준이 없으므로 다양한 값을 시도\n",
    "- 다양한 K를 적용한 모델의 성능을 비교하여 최적의 K 찾기"
   ]
  },
  {
   "cell_type": "markdown",
   "metadata": {
    "id": "qjycIZSDrxCV"
   },
   "source": [
    "#### MSE(Mean Squared Error)"
   ]
  },
  {
   "cell_type": "code",
   "execution_count": 15,
   "metadata": {
    "colab": {
     "base_uri": "https://localhost:8080/"
    },
    "executionInfo": {
     "elapsed": 5,
     "status": "ok",
     "timestamp": 1658756434668,
     "user": {
      "displayName": "김시원(경영대학 경영학과)",
      "userId": "01852339631245886585"
     },
     "user_tz": -540
    },
    "id": "GaQEBCx6DBsM",
    "outputId": "79085db7-2741-4a1a-c9d7-270110f7669f"
   },
   "outputs": [
    {
     "name": "stdout",
     "output_type": "stream",
     "text": [
      "K = 1, Test MSE: 0.2040\n",
      "K = 3, Test MSE: 0.1422\n",
      "K = 5, Test MSE: 0.1321\n",
      "K = 7, Test MSE: 0.1261\n",
      "K = 9, Test MSE: 0.1286\n"
     ]
    }
   ],
   "source": [
    "# K = 1, 3, 5, 7, 9\n",
    "\n",
    "for K in [1, 3, 5, 7, 9]:\n",
    "    \n",
    "    # 객체 생성, 학습/예측 수행\n",
    "    kn = KNeighborsRegressor(n_neighbors=K)\n",
    "    kn.fit(train_x, train_y)\n",
    "    pred = kn.predict(test_x)\n",
    "    \n",
    "    # MSE 산출\n",
    "    mse = mean_squared_error(test_y, pred)\n",
    "    print(f'K = {K}, Test MSE: {mse:.4f}')\n",
    "\n",
    "# K = 7일 때의 성능이 가장 우수"
   ]
  },
  {
   "cell_type": "markdown",
   "metadata": {
    "id": "EGaOOQIesBgV"
   },
   "source": [
    "#### 결정계수(R²)\n",
    "- 전체 변동성 중 회귀식이 설명할 수 있는 변동성의 비율(%)\n",
    "- 독립변수가 종속변수의 변동을 얼마나 설명하는지 나타내는 지표"
   ]
  },
  {
   "cell_type": "code",
   "execution_count": 16,
   "metadata": {
    "executionInfo": {
     "elapsed": 1600,
     "status": "ok",
     "timestamp": 1658756440795,
     "user": {
      "displayName": "김시원(경영대학 경영학과)",
      "userId": "01852339631245886585"
     },
     "user_tz": -540
    },
    "id": "B7_jM-P0DBsM"
   },
   "outputs": [],
   "source": [
    "# K = 2, 3, ... , 24\n",
    "n_neighbors = range(2, 25)\n",
    "\n",
    "# 학습/테스트 데이터 R-squared 리스트 생성\n",
    "train_r2 = []\n",
    "test_r2 = []\n",
    "\n",
    "for K in n_neighbors:\n",
    "\n",
    "    # 모델 객체 생성\n",
    "    kn = KNeighborsRegressor(K) # n_neighbors 생략 가능\n",
    "    kn.fit(train_x, train_y)\n",
    "\n",
    "    # 학습/테스트 데이터의 R-squared 리스트에 저장 \n",
    "    # score() -> 모델의 결정계수 산출\n",
    "    train_r2.append(kn.score(train_x, train_y))\n",
    "    test_r2.append(kn.score(test_x, test_y))"
   ]
  },
  {
   "cell_type": "code",
   "execution_count": 17,
   "metadata": {
    "colab": {
     "base_uri": "https://localhost:8080/",
     "height": 334
    },
    "executionInfo": {
     "elapsed": 710,
     "status": "ok",
     "timestamp": 1658756443631,
     "user": {
      "displayName": "김시원(경영대학 경영학과)",
      "userId": "01852339631245886585"
     },
     "user_tz": -540
    },
    "id": "XFd2r1HEX0KB",
    "outputId": "c399de24-86e9-4c76-bc27-bb1df852eb4b"
   },
   "outputs": [
    {
     "data": {
      "image/png": "[encoded data removed]",
      "text/plain": [
       "<Figure size 504x360 with 1 Axes>"
      ]
     },
     "metadata": {
      "needs_background": "light"
     },
     "output_type": "display_data"
    }
   ],
   "source": [
    "# 시각화: K에 따른 결정계수(R-squared)의 변화\n",
    "\n",
    "import matplotlib.pyplot as plt\n",
    "plt.figure(figsize=(7, 5))\n",
    "\n",
    "# train/test 데이터의 결정계수 그래프(line plot)\n",
    "plt.plot(n_neighbors, train_r2, label='train R-squared')\n",
    "plt.plot(n_neighbors, test_r2, label='test R-squared')\n",
    "\n",
    "plt.xticks(range(0, 25, 2))\n",
    "plt.ylabel('R-squared')\n",
    "plt.xlabel('K')\n",
    "plt.grid(linestyle=':')\n",
    "plt.legend()\n",
    "plt.show()\n",
    "\n",
    "# K = 7일 때 결정계수 최대"
   ]
  },
  {
   "cell_type": "markdown",
   "metadata": {
    "id": "PYwSZDgmkyek"
   },
   "source": [
    "### 교차 검증(Cross Validation)\n",
    "- 교차 검증을 통해 최적의 K 찾기"
   ]
  },
  {
   "cell_type": "code",
   "execution_count": 18,
   "metadata": {
    "executionInfo": {
     "elapsed": 3857,
     "status": "ok",
     "timestamp": 1658756449992,
     "user": {
      "displayName": "김시원(경영대학 경영학과)",
      "userId": "01852339631245886585"
     },
     "user_tz": -540
    },
    "id": "naPDFO5ck16T"
   },
   "outputs": [],
   "source": [
    "from sklearn.model_selection import cross_val_score\n",
    "\n",
    "# K = 1, 2, ... , 50\n",
    "n_neighbors = range(1,51)\n",
    "\n",
    "# K에 따른 교차 검증 점수를 저장할 리스트\n",
    "scores = []\n",
    "\n",
    "for K in n_neighbors:\n",
    "    \n",
    "    kn = KNeighborsRegressor(K)\n",
    "    cv_score = cross_val_score(kn, train_x, train_y,\n",
    "                            cv=5, scoring='r2') # default scoring='r2'\n",
    "    scores.append(cv_score.mean()) # 5개 폴드의 평균을 추가"
   ]
  },
  {
   "cell_type": "code",
   "execution_count": 19,
   "metadata": {
    "colab": {
     "base_uri": "https://localhost:8080/",
     "height": 334
    },
    "executionInfo": {
     "elapsed": 560,
     "status": "ok",
     "timestamp": 1658756451593,
     "user": {
      "displayName": "김시원(경영대학 경영학과)",
      "userId": "01852339631245886585"
     },
     "user_tz": -540
    },
    "id": "R5JfHt_6k3zX",
    "outputId": "a26af4ed-ea40-451f-c19a-520d182a983a"
   },
   "outputs": [
    {
     "data": {
      "image/png": "[encoded data removed]",
      "text/plain": [
       "<Figure size 720x360 with 1 Axes>"
      ]
     },
     "metadata": {
      "needs_background": "light"
     },
     "output_type": "display_data"
    }
   ],
   "source": [
    "# 시각화: K에 따른 교차 검증 점수의 변화\n",
    "\n",
    "plt.figure(figsize=(10, 5))\n",
    "plt.plot(n_neighbors, scores)\n",
    "\n",
    "plt.xlabel('K')\n",
    "plt.ylabel('Cross-validation score')\n",
    "plt.xticks(range(0, 51, 2))\n",
    "plt.grid(linestyle=':')\n",
    "plt.show()\n",
    "\n",
    "# K = 5일 때 교차 검증 성능이 가장 우수"
   ]
  },
  {
   "cell_type": "markdown",
   "metadata": {
    "id": "m_tLRpzZWsfg"
   },
   "source": [
    "#### Default K에 대한 모델링 및 성능 평가\n",
    "- default K = 5"
   ]
  },
  {
   "cell_type": "code",
   "execution_count": 20,
   "metadata": {
    "colab": {
     "base_uri": "https://localhost:8080/"
    },
    "executionInfo": {
     "elapsed": 354,
     "status": "ok",
     "timestamp": 1658756454577,
     "user": {
      "displayName": "김시원(경영대학 경영학과)",
      "userId": "01852339631245886585"
     },
     "user_tz": -540
    },
    "id": "jG20k4guDBsN",
    "outputId": "79dd5592-65ed-42c2-9bc5-db75fca9302a"
   },
   "outputs": [
    {
     "name": "stdout",
     "output_type": "stream",
     "text": [
      "K = 5\n",
      "====================\n",
      "Test MSE: 0.1321\n",
      "Test MAE: 0.2836\n",
      "Test R-squared: 0.8629\n"
     ]
    }
   ],
   "source": [
    "# 객체 생성, 모델 학습/예측\n",
    "kn = KNeighborsRegressor()\n",
    "kn.fit(train_x, train_y)\n",
    "pred = kn.predict(test_x)\n",
    "\n",
    "# 모델 성능 측정\n",
    "mse_5 = mean_squared_error(test_y, pred)\n",
    "mae_5 = mean_absolute_error(test_y, pred)\n",
    "r2_5 = r2_score(test_y, pred)\n",
    "\n",
    "print('K = 5')\n",
    "print('='*20)\n",
    "print(f'Test MSE: {mse_5:.4f}')\n",
    "print(f'Test MAE: {mae_5:.4f}')\n",
    "print(f'Test R-squared: {r2_5:.4f}')\n",
    "\n",
    "# 회귀선이 전체 데이터의 86% 설명 가능"
   ]
  },
  {
   "cell_type": "markdown",
   "metadata": {
    "id": "QPtwCmWsb7N8"
   },
   "source": [
    "#### Best K에 대한 모델링 및 성능 평가\n",
    "- best K = 7"
   ]
  },
  {
   "cell_type": "code",
   "execution_count": 21,
   "metadata": {
    "colab": {
     "base_uri": "https://localhost:8080/"
    },
    "executionInfo": {
     "elapsed": 337,
     "status": "ok",
     "timestamp": 1658756457350,
     "user": {
      "displayName": "김시원(경영대학 경영학과)",
      "userId": "01852339631245886585"
     },
     "user_tz": -540
    },
    "id": "yQXDOPRnDBsN",
    "outputId": "a2519d1f-6cd3-4e39-a546-e944c87c83ef"
   },
   "outputs": [
    {
     "name": "stdout",
     "output_type": "stream",
     "text": [
      "K = 7\n",
      "====================\n",
      "Test MSE: 0.1261\n",
      "Test MAE: 0.2765\n",
      "Test R-squared: 0.8691\n"
     ]
    }
   ],
   "source": [
    "# 객체 생성, 모델 학습/예측\n",
    "kn = KNeighborsRegressor(n_neighbors=7)\n",
    "kn.fit(train_x, train_y)\n",
    "pred = kn.predict(test_x)\n",
    "\n",
    "# 모델 성능 측정\n",
    "mse_7 = mean_squared_error(test_y, pred)\n",
    "mae_7 = mean_absolute_error(test_y, pred)\n",
    "r2_7 = r2_score(test_y, pred)\n",
    "\n",
    "print('K = 7')\n",
    "print('='*20)\n",
    "print(f'Test MSE: {mse_7:.4f}')\n",
    "print(f'Test MAE: {mae_7:.4f}')\n",
    "print(f'Test R-squared: {r2_7:.4f}')\n",
    "\n",
    "# 회귀선이 전체 데이터의 약 87% 설명 가능 -> 약간의 성능 향상"
   ]
  },
  {
   "cell_type": "markdown",
   "metadata": {
    "id": "6Dl29nLXdx3i"
   },
   "source": [
    "#### Performance Matrix"
   ]
  },
  {
   "cell_type": "code",
   "execution_count": 22,
   "metadata": {
    "colab": {
     "base_uri": "https://localhost:8080/",
     "height": 148
    },
    "executionInfo": {
     "elapsed": 5,
     "status": "ok",
     "timestamp": 1658756460780,
     "user": {
      "displayName": "김시원(경영대학 경영학과)",
      "userId": "01852339631245886585"
     },
     "user_tz": -540
    },
    "id": "EKcuU07BDBsN",
    "outputId": "5b7f7789-c72f-44b8-fbf7-322674f270d2"
   },
   "outputs": [
    {
     "name": "stdout",
     "output_type": "stream",
     "text": [
      "KNN Performance Matrix\n",
      "\n"
     ]
    },
    {
     "data": {
      "text/html": [
       "\n",
       "  <div id=\"df-30369d30-fdf4-4ae1-ac49-f426f947cb4f\">\n",
       "    <div class=\"colab-df-container\">\n",
       "      <div>\n",
       "<style scoped>\n",
       "    .dataframe tbody tr th:only-of-type {\n",
       "        vertical-align: middle;\n",
       "    }\n",
       "\n",
       "    .dataframe tbody tr th {\n",
       "        vertical-align: top;\n",
       "    }\n",
       "\n",
       "    .dataframe thead th {\n",
       "        text-align: right;\n",
       "    }\n",
       "</style>\n",
       "<table border=\"1\" class=\"dataframe\">\n",
       "  <thead>\n",
       "    <tr style=\"text-align: right;\">\n",
       "      <th></th>\n",
       "      <th>K</th>\n",
       "      <th>MSE</th>\n",
       "      <th>MAE</th>\n",
       "      <th>R-squared</th>\n",
       "    </tr>\n",
       "  </thead>\n",
       "  <tbody>\n",
       "    <tr>\n",
       "      <th>default_K</th>\n",
       "      <td>5</td>\n",
       "      <td>0.132083</td>\n",
       "      <td>0.283634</td>\n",
       "      <td>0.862938</td>\n",
       "    </tr>\n",
       "    <tr>\n",
       "      <th>best_K</th>\n",
       "      <td>7</td>\n",
       "      <td>0.126131</td>\n",
       "      <td>0.276452</td>\n",
       "      <td>0.869114</td>\n",
       "    </tr>\n",
       "  </tbody>\n",
       "</table>\n",
       "</div>\n",
       "      <button class=\"colab-df-convert\" onclick=\"convertToInteractive('df-30369d30-fdf4-4ae1-ac49-f426f947cb4f')\"\n",
       "              title=\"Convert this dataframe to an interactive table.\"\n",
       "              style=\"display:none;\">\n",
       "        \n",
       "  <svg xmlns=\"http://www.w3.org/2000/svg\" height=\"24px\"viewBox=\"0 0 24 24\"\n",
       "       width=\"24px\">\n",
       "    <path d=\"M0 0h24v24H0V0z\" fill=\"none\"/>\n",
       "    <path d=\"M18.56 5.44l.94 2.06.94-2.06 2.06-.94-2.06-.94-.94-2.06-.94 2.06-2.06.94zm-11 1L8.5 8.5l.94-2.06 2.06-.94-2.06-.94L8.5 2.5l-.94 2.06-2.06.94zm10 10l.94 2.06.94-2.06 2.06-.94-2.06-.94-.94-2.06-.94 2.06-2.06.94z\"/><path d=\"M17.41 7.96l-1.37-1.37c-.4-.4-.92-.59-1.43-.59-.52 0-1.04.2-1.43.59L10.3 9.45l-7.72 7.72c-.78.78-.78 2.05 0 2.83L4 21.41c.39.39.9.59 1.41.59.51 0 1.02-.2 1.41-.59l7.78-7.78 2.81-2.81c.8-.78.8-2.07 0-2.86zM5.41 20L4 18.59l7.72-7.72 1.47 1.35L5.41 20z\"/>\n",
       "  </svg>\n",
       "      </button>\n",
       "      \n",
       "  <style>\n",
       "    .colab-df-container {\n",
       "      display:flex;\n",
       "      flex-wrap:wrap;\n",
       "      gap: 12px;\n",
       "    }\n",
       "\n",
       "    .colab-df-convert {\n",
       "      background-color: #E8F0FE;\n",
       "      border: none;\n",
       "      border-radius: 50%;\n",
       "      cursor: pointer;\n",
       "      display: none;\n",
       "      fill: #1967D2;\n",
       "      height: 32px;\n",
       "      padding: 0 0 0 0;\n",
       "      width: 32px;\n",
       "    }\n",
       "\n",
       "    .colab-df-convert:hover {\n",
       "      background-color: #E2EBFA;\n",
       "      box-shadow: 0px 1px 2px rgba(60, 64, 67, 0.3), 0px 1px 3px 1px rgba(60, 64, 67, 0.15);\n",
       "      fill: #174EA6;\n",
       "    }\n",
       "\n",
       "    [theme=dark] .colab-df-convert {\n",
       "      background-color: #3B4455;\n",
       "      fill: #D2E3FC;\n",
       "    }\n",
       "\n",
       "    [theme=dark] .colab-df-convert:hover {\n",
       "      background-color: #434B5C;\n",
       "      box-shadow: 0px 1px 3px 1px rgba(0, 0, 0, 0.15);\n",
       "      filter: drop-shadow(0px 1px 2px rgba(0, 0, 0, 0.3));\n",
       "      fill: #FFFFFF;\n",
       "    }\n",
       "  </style>\n",
       "\n",
       "      <script>\n",
       "        const buttonEl =\n",
       "          document.querySelector('#df-30369d30-fdf4-4ae1-ac49-f426f947cb4f button.colab-df-convert');\n",
       "        buttonEl.style.display =\n",
       "          google.colab.kernel.accessAllowed ? 'block' : 'none';\n",
       "\n",
       "        async function convertToInteractive(key) {\n",
       "          const element = document.querySelector('#df-30369d30-fdf4-4ae1-ac49-f426f947cb4f');\n",
       "          const dataTable =\n",
       "            await google.colab.kernel.invokeFunction('convertToInteractive',\n",
       "                                                     [key], {});\n",
       "          if (!dataTable) return;\n",
       "\n",
       "          const docLinkHtml = 'Like what you see? Visit the ' +\n",
       "            '<a target=\"_blank\" href=https://colab.research.google.com/notebooks/data_table.ipynb>data table notebook</a>'\n",
       "            + ' to learn more about interactive tables.';\n",
       "          element.innerHTML = '';\n",
       "          dataTable['output_type'] = 'display_data';\n",
       "          await google.colab.output.renderOutput(dataTable, element);\n",
       "          const docLink = document.createElement('div');\n",
       "          docLink.innerHTML = docLinkHtml;\n",
       "          element.appendChild(docLink);\n",
       "        }\n",
       "      </script>\n",
       "    </div>\n",
       "  </div>\n",
       "  "
      ],
      "text/plain": [
       "           K       MSE       MAE R-squared\n",
       "default_K  5  0.132083  0.283634  0.862938\n",
       "best_K     7  0.126131  0.276452  0.869114"
      ]
     },
     "execution_count": 22,
     "metadata": {},
     "output_type": "execute_result"
    }
   ],
   "source": [
    "# 데이터프레임 생성\n",
    "df = pd.DataFrame(columns=['K', 'MSE', 'MAE', 'R-squared'],\n",
    "                        index=['default_K', 'best_K'])\n",
    "\n",
    "# 성능 지표 추가\n",
    "df.loc['default_K'] = [5, mse_5, mae_5, r2_5]\n",
    "df.loc['best_K'] = [7, mse_7, mae_7, r2_7]\n",
    "\n",
    "print('KNN Performance Matrix')\n",
    "print()\n",
    "df"
   ]
  },
  {
   "cell_type": "markdown",
   "metadata": {
    "id": "oEjtmFoktz5t"
   },
   "source": [
    "## Linear Regression"
   ]
  },
  {
   "cell_type": "markdown",
   "metadata": {
    "id": "tV7lf2Imk_lT"
   },
   "source": [
    "### Target 분포 확인\n",
    "- 정답 데이터인 중고차 가격의 분포를 히스토그램으로 확인"
   ]
  },
  {
   "cell_type": "code",
   "execution_count": 23,
   "metadata": {
    "colab": {
     "base_uri": "https://localhost:8080/",
     "height": 265
    },
    "executionInfo": {
     "elapsed": 875,
     "status": "ok",
     "timestamp": 1658756464586,
     "user": {
      "displayName": "김시원(경영대학 경영학과)",
      "userId": "01852339631245886585"
     },
     "user_tz": -540
    },
    "id": "YlvQoOCBjQM-",
    "outputId": "97dec520-a89f-4178-e51d-4516748cda4e"
   },
   "outputs": [
    {
     "data": {
      "image/png": "[encoded data removed]",
      "text/plain": [
       "<Figure size 432x288 with 1 Axes>"
      ]
     },
     "metadata": {
      "needs_background": "light"
     },
     "output_type": "display_data"
    }
   ],
   "source": [
    "plt.hist(toyota['Price']) # default bins=10\n",
    "plt.show()\n",
    "\n",
    "# 불균형한 target 분포"
   ]
  },
  {
   "cell_type": "code",
   "execution_count": 24,
   "metadata": {
    "colab": {
     "base_uri": "https://localhost:8080/",
     "height": 265
    },
    "executionInfo": {
     "elapsed": 406,
     "status": "ok",
     "timestamp": 1658756555365,
     "user": {
      "displayName": "김시원(경영대학 경영학과)",
      "userId": "01852339631245886585"
     },
     "user_tz": -540
    },
    "id": "_pRSFBCis8LY",
    "outputId": "aa69cb0b-e188-4d8d-940d-00d4c1c401cf"
   },
   "outputs": [
    {
     "data": {
      "image/png": "[encoded data removed]",
      "text/plain": [
       "<Figure size 432x288 with 1 Axes>"
      ]
     },
     "metadata": {
      "needs_background": "light"
     },
     "output_type": "display_data"
    }
   ],
   "source": [
    "# target 데이터에 대한 로그 변환 수행(정규분포화)\n",
    "plt.hist(np.log1p(toyota['Price']))\n",
    "plt.show()"
   ]
  },
  {
   "cell_type": "markdown",
   "metadata": {
    "id": "jseyRtu7mQAA"
   },
   "source": [
    "### 데이터(target) 로그 변환\n",
    "- feature/target 분리 후 target 데이터에 대한 로그 변환 수행\n",
    "- 로그 변환된 데이터로 모델링 및 학습"
   ]
  },
  {
   "cell_type": "code",
   "execution_count": 25,
   "metadata": {
    "executionInfo": {
     "elapsed": 422,
     "status": "ok",
     "timestamp": 1658757174792,
     "user": {
      "displayName": "김시원(경영대학 경영학과)",
      "userId": "01852339631245886585"
     },
     "user_tz": -540
    },
    "id": "xUPqUMvskYMn"
   },
   "outputs": [],
   "source": [
    "# feature, target 분리\n",
    "y_target = toyota['Price'] # 표준화/로그 변환 이전의 target\n",
    "x_features = toyota.drop('Price', axis=1)\n",
    "\n",
    "# target 로그 변환\n",
    "y_target_log = np.log1p(y_target)\n",
    "\n",
    "# 학습/테스트 데이터 분할(test_size: 30%)\n",
    "train_x, test_x, train_y, test_y = train_test_split(x_features, y_target_log,\n",
    "                                                    test_size=0.3,\n",
    "                                                    random_state=0)"
   ]
  },
  {
   "cell_type": "code",
   "execution_count": 29,
   "metadata": {
    "colab": {
     "base_uri": "https://localhost:8080/"
    },
    "executionInfo": {
     "elapsed": 362,
     "status": "ok",
     "timestamp": 1658757363308,
     "user": {
      "displayName": "김시원(경영대학 경영학과)",
      "userId": "01852339631245886585"
     },
     "user_tz": -540
    },
    "id": "yM8MDI3Ht4J1",
    "outputId": "ac96ca51-4fca-4b53-ca8a-38cfecd40ca5"
   },
   "outputs": [
    {
     "name": "stdout",
     "output_type": "stream",
     "text": [
      "0.01283506287258028 0.8460152056395207\n"
     ]
    }
   ],
   "source": [
    "from sklearn.linear_model import LinearRegression\n",
    "\n",
    "lr = LinearRegression()\n",
    "lr.fit(train_x, train_y)\n",
    "pred = lr.predict(test_x)\n",
    "\n",
    "mse = mean_squared_error(test_y, pred)\n",
    "r2 = r2_score(test_y, pred)\n",
    "print(mse, r2)"
   ]
  },
  {
   "cell_type": "code",
   "execution_count": 30,
   "metadata": {
    "executionInfo": {
     "elapsed": 334,
     "status": "ok",
     "timestamp": 1658757496397,
     "user": {
      "displayName": "김시원(경영대학 경영학과)",
      "userId": "01852339631245886585"
     },
     "user_tz": -540
    },
    "id": "zdzfPzapJlug"
   },
   "outputs": [],
   "source": [
    "# 예측값과 실제값의 분포를 시각화하는 함수 생성\n",
    "\n",
    "def plot_pred_actual(actual, pred):\n",
    "    \n",
    "    df = pd.DataFrame({'actual': actual, 'prediction': pred})\n",
    "    df = df.sort_values(by='actual').reset_index(drop=True)\n",
    "    \n",
    "    plt.figure(figsize=(8, 6))\n",
    "\n",
    "    plt.scatter(df.index, df['prediction'], marker='x', color='r')\n",
    "    plt.scatter(df.index, df['actual'], alpha=0.5, marker='o', color='b')\n",
    "    \n",
    "    plt.title('Linear Regression', fontsize=15)\n",
    "    plt.legend(['prediction', 'actual'], fontsize=12)"
   ]
  },
  {
   "cell_type": "code",
   "execution_count": 31,
   "metadata": {
    "colab": {
     "base_uri": "https://localhost:8080/",
     "height": 392
    },
    "executionInfo": {
     "elapsed": 670,
     "status": "ok",
     "timestamp": 1658757499025,
     "user": {
      "displayName": "김시원(경영대학 경영학과)",
      "userId": "01852339631245886585"
     },
     "user_tz": -540
    },
    "id": "EWHQegSlJub6",
    "outputId": "d3b05739-e71e-4fc6-b144-830a3d60a901"
   },
   "outputs": [
    {
     "data": {
      "image/png": "[encoded data removed]",
      "text/plain": [
       "<Figure size 576x432 with 1 Axes>"
      ]
     },
     "metadata": {
      "needs_background": "light"
     },
     "output_type": "display_data"
    }
   ],
   "source": [
    "plot_pred_actual(test_y, pred)"
   ]
  },
  {
   "cell_type": "markdown",
   "metadata": {
    "id": "vMCqBKRCHWm5"
   },
   "source": [
    "### 회귀계수 확인"
   ]
  },
  {
   "cell_type": "code",
   "execution_count": 39,
   "metadata": {
    "colab": {
     "base_uri": "https://localhost:8080/"
    },
    "executionInfo": {
     "elapsed": 534,
     "status": "ok",
     "timestamp": 1658758064427,
     "user": {
      "displayName": "김시원(경영대학 경영학과)",
      "userId": "01852339631245886585"
     },
     "user_tz": -540
    },
    "id": "8tv6txsbGNI-",
    "outputId": "2286fd2a-3ed7-4f37-e64c-c0ede1166aab"
   },
   "outputs": [
    {
     "name": "stdout",
     "output_type": "stream",
     "text": [
      "Bias: 5.9624\n",
      "Weight: [-0.0096 -0.0071  0.0014 -0.      0.0013 -0.0009  0.0444 -0.      0.0082\n",
      "  0.      0.0431  0.0011  0.0005  0.0333  0.0379  0.0045  0.0022  0.0411\n",
      " -0.0119  0.0317  0.1067 -0.0088  0.0128 -0.0039  0.0336 -0.0426  0.0536\n",
      "  0.0065 -0.0006 -0.0249  0.01   -0.0578 -0.0146 -0.08    0.0069  0.0731]\n"
     ]
    }
   ],
   "source": [
    "# 회귀계수 및 절편 확인\n",
    "bias = lr.intercept_\n",
    "weight = lr.coef_\n",
    "\n",
    "print('Bias:', np.round(bias, 4))\n",
    "print('Weight:', np.round(weight, 4))\n",
    "\n",
    "# 모든 변수가 가격과 상관관계를 거의 보이지 x"
   ]
  },
  {
   "cell_type": "code",
   "execution_count": 40,
   "metadata": {
    "colab": {
     "base_uri": "https://localhost:8080/"
    },
    "executionInfo": {
     "elapsed": 388,
     "status": "ok",
     "timestamp": 1658758236926,
     "user": {
      "displayName": "김시원(경영대학 경영학과)",
      "userId": "01852339631245886585"
     },
     "user_tz": -540
    },
    "id": "ou373SkPIT4K",
    "outputId": "8b501469-a51c-4a96-c83c-626b9c9dcdb1"
   },
   "outputs": [
    {
     "data": {
      "text/plain": [
       "Automatic_airco    0.1\n",
       "Radio              0.1\n",
       "FT_Petrol          0.1\n",
       "Radio_cassette    -0.1\n",
       "FT_CNG            -0.1\n",
       "dtype: float64"
      ]
     },
     "execution_count": 40,
     "metadata": {},
     "output_type": "execute_result"
    }
   ],
   "source": [
    "# 주요 feature 추출: 회귀계수를 소수점 아래 한 자리까지만 나타냈을 때 절댓값이 0보다 큰 변수\n",
    "coeff = pd.Series(data=np.round(weight, 1), index=x_features.columns) # Series 형태로 저장\n",
    "coeff = coeff[np.abs(coeff) > 0]\n",
    "\n",
    "# 내림차순 정렬\n",
    "sorted_values = coeff.sort_values(ascending=False)\n",
    "sorted_values"
   ]
  },
  {
   "cell_type": "code",
   "execution_count": 41,
   "metadata": {
    "colab": {
     "base_uri": "https://localhost:8080/",
     "height": 283
    },
    "executionInfo": {
     "elapsed": 378,
     "status": "ok",
     "timestamp": 1658758281357,
     "user": {
      "displayName": "김시원(경영대학 경영학과)",
      "userId": "01852339631245886585"
     },
     "user_tz": -540
    },
    "id": "48QwwzlzKdXC",
    "outputId": "0985f5da-7282-4a50-ae31-360b672d9567"
   },
   "outputs": [
    {
     "data": {
      "text/plain": [
       "<matplotlib.axes._subplots.AxesSubplot at 0x7fdfe8fe3790>"
      ]
     },
     "execution_count": 41,
     "metadata": {},
     "output_type": "execute_result"
    },
    {
     "data": {
      "image/png": "[encoded data removed]",
      "text/plain": [
       "<Figure size 432x288 with 1 Axes>"
      ]
     },
     "metadata": {
      "needs_background": "light"
     },
     "output_type": "display_data"
    }
   ],
   "source": [
    "# 주요 변수의 회귀계수 시각화\n",
    "import seaborn as sns\n",
    "sns.barplot(x=sorted_values, y=sorted_values.index)\n",
    "\n",
    "# 데이터셋에 포함된 독립변수와 종속변수 간의 상관관계가 거의 보이지 x"
   ]
  }
 ],
 "metadata": {
  "colab": {
   "collapsed_sections": [],
   "name": "5_회귀모델_Linear_KNN_실습_풀이.ipynb",
   "provenance": [
    {
     "file_id": "13l07QotnvwJI9IFzElC6vO__NJPzvhtw",
     "timestamp": 1658003842017
    }
   ]
  },
  "kernelspec": {
   "display_name": "Python 3 (ipykernel)",
   "language": "python",
   "name": "python3"
  },
  "language_info": {
   "codemirror_mode": {
    "name": "ipython",
    "version": 3
   },
   "file_extension": ".py",
   "mimetype": "text/x-python",
   "name": "python",
   "nbconvert_exporter": "python",
   "pygments_lexer": "ipython3",
   "version": "3.9.12"
  }
 },
 "nbformat": 4,
 "nbformat_minor": 1
}
